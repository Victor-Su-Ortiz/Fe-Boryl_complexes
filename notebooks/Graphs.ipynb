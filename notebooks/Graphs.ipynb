{
 "cells": [
  {
   "cell_type": "code",
   "execution_count": 1,
   "metadata": {},
   "outputs": [],
   "source": [
    "import sys\n",
    "sys.path.append('../models/')\n",
    "from gcn_mse import run_gcn_mse"
   ]
  },
  {
   "cell_type": "code",
   "execution_count": 3,
   "metadata": {},
   "outputs": [],
   "source": [
    "hp = {\n",
    "        'batch_size': 16,\n",
    "        'patience': 10,\n",
    "        'scheduler_factor': 0.8,\n",
    "        'hidden_dim1': 32,\n",
    "        'hidden_dim2': 64,\n",
    "        'hidden_dim3': 128,\n",
    "        'hidden_dim4': 64,\n",
    "        'hidden_dim5': 32,\n",
    "        'hidden_dim6': 16,\n",
    "        'num_layers1': 2,\n",
    "        'num_layers2': 2,\n",
    "        'num_layers3': 2,\n",
    "        'num_layers4': 2,\n",
    "        'num_layers5': 2,\n",
    "        'num_layers6': 2,\n",
    "        'lr': 0.00005,\n",
    "        'epochs': 200,\n",
    "        'use_batch_norm': True,\n",
    "        'z-normalize': True,\n",
    "    }"
   ]
  },
  {
   "cell_type": "code",
   "execution_count": 4,
   "metadata": {},
   "outputs": [
    {
     "name": "stdout",
     "output_type": "stream",
     "text": [
      "Epoch 1 of job unknown, Validation Loss: 1.2802526\n",
      "Epoch 2 of job unknown, Validation Loss: 1.2123943\n",
      "Epoch 3 of job unknown, Validation Loss: 1.2540897\n",
      "Epoch 4 of job unknown, Validation Loss: 1.1794041\n",
      "Epoch 5 of job unknown, Validation Loss: 1.2231928\n",
      "Epoch 6 of job unknown, Validation Loss: 1.0725513\n",
      "Epoch 7 of job unknown, Validation Loss: 1.1790759\n",
      "Epoch 8 of job unknown, Validation Loss: 1.1091026\n",
      "Epoch 9 of job unknown, Validation Loss: 1.1160442\n",
      "Epoch 10 of job unknown, Validation Loss: 0.9979223\n",
      "Epoch 11 of job unknown, Validation Loss: 0.9870191\n",
      "Epoch 12 of job unknown, Validation Loss: 0.9748496\n",
      "Epoch 13 of job unknown, Validation Loss: 0.9726558\n",
      "Epoch 14 of job unknown, Validation Loss: 0.8531585\n",
      "Epoch 15 of job unknown, Validation Loss: 0.7874762\n",
      "Epoch 16 of job unknown, Validation Loss: 0.7945868\n",
      "Epoch 17 of job unknown, Validation Loss: 0.8626647\n",
      "Epoch 18 of job unknown, Validation Loss: 0.7218234\n",
      "Epoch 19 of job unknown, Validation Loss: 0.6958933\n",
      "Epoch 20 of job unknown, Validation Loss: 0.6397596\n",
      "Epoch 21 of job unknown, Validation Loss: 0.6555680\n",
      "Epoch 22 of job unknown, Validation Loss: 0.6788422\n",
      "Epoch 23 of job unknown, Validation Loss: 0.6040619\n",
      "Epoch 24 of job unknown, Validation Loss: 0.5942680\n",
      "Epoch 25 of job unknown, Validation Loss: 0.5634474\n",
      "Epoch 26 of job unknown, Validation Loss: 0.5646972\n",
      "Epoch 27 of job unknown, Validation Loss: 0.5508084\n",
      "Epoch 28 of job unknown, Validation Loss: 0.4902852\n",
      "Epoch 29 of job unknown, Validation Loss: 0.4886274\n",
      "Epoch 30 of job unknown, Validation Loss: 0.4609014\n",
      "Epoch 31 of job unknown, Validation Loss: 0.4988813\n",
      "Epoch 32 of job unknown, Validation Loss: 0.4464176\n",
      "Epoch 33 of job unknown, Validation Loss: 0.4382794\n",
      "Epoch 34 of job unknown, Validation Loss: 0.4734056\n",
      "Epoch 35 of job unknown, Validation Loss: 0.4344171\n",
      "Epoch 36 of job unknown, Validation Loss: 0.3750881\n"
     ]
    },
    {
     "ename": "KeyboardInterrupt",
     "evalue": "",
     "output_type": "error",
     "traceback": [
      "\u001b[0;31m---------------------------------------------------------------------------\u001b[0m",
      "\u001b[0;31mKeyboardInterrupt\u001b[0m                         Traceback (most recent call last)",
      "Cell \u001b[0;32mIn[4], line 1\u001b[0m\n\u001b[0;32m----> 1\u001b[0m \u001b[43mrun_gcn_mse\u001b[49m\u001b[43m(\u001b[49m\u001b[43mhp\u001b[49m\u001b[43m)\u001b[49m\n",
      "File \u001b[0;32m~/Desktop/Fe-Boryl_complexes/gcn_mse.py:153\u001b[0m, in \u001b[0;36mrun_gcn_mse\u001b[0;34m(hp)\u001b[0m\n\u001b[1;32m    150\u001b[0m     loss \u001b[38;5;241m=\u001b[39m loss_fn(output, batch\u001b[38;5;241m.\u001b[39my\u001b[38;5;241m.\u001b[39mfloat())\n\u001b[1;32m    151\u001b[0m     \u001b[38;5;66;03m# mu, std = model(batch)\u001b[39;00m\n\u001b[1;32m    152\u001b[0m     \u001b[38;5;66;03m# loss = loss_fn(mu, batch.y, std)\u001b[39;00m\n\u001b[0;32m--> 153\u001b[0m     \u001b[43mloss\u001b[49m\u001b[38;5;241;43m.\u001b[39;49m\u001b[43mbackward\u001b[49m\u001b[43m(\u001b[49m\u001b[43m)\u001b[49m\n\u001b[1;32m    154\u001b[0m     optimizer\u001b[38;5;241m.\u001b[39mstep()\n\u001b[1;32m    156\u001b[0m model\u001b[38;5;241m.\u001b[39meval()\n",
      "File \u001b[0;32m~/Desktop/Fe-Boryl_complexes/.venv/lib/python3.12/site-packages/torch/_tensor.py:525\u001b[0m, in \u001b[0;36mTensor.backward\u001b[0;34m(self, gradient, retain_graph, create_graph, inputs)\u001b[0m\n\u001b[1;32m    515\u001b[0m \u001b[38;5;28;01mif\u001b[39;00m has_torch_function_unary(\u001b[38;5;28mself\u001b[39m):\n\u001b[1;32m    516\u001b[0m     \u001b[38;5;28;01mreturn\u001b[39;00m handle_torch_function(\n\u001b[1;32m    517\u001b[0m         Tensor\u001b[38;5;241m.\u001b[39mbackward,\n\u001b[1;32m    518\u001b[0m         (\u001b[38;5;28mself\u001b[39m,),\n\u001b[0;32m   (...)\u001b[0m\n\u001b[1;32m    523\u001b[0m         inputs\u001b[38;5;241m=\u001b[39minputs,\n\u001b[1;32m    524\u001b[0m     )\n\u001b[0;32m--> 525\u001b[0m \u001b[43mtorch\u001b[49m\u001b[38;5;241;43m.\u001b[39;49m\u001b[43mautograd\u001b[49m\u001b[38;5;241;43m.\u001b[39;49m\u001b[43mbackward\u001b[49m\u001b[43m(\u001b[49m\n\u001b[1;32m    526\u001b[0m \u001b[43m    \u001b[49m\u001b[38;5;28;43mself\u001b[39;49m\u001b[43m,\u001b[49m\u001b[43m \u001b[49m\u001b[43mgradient\u001b[49m\u001b[43m,\u001b[49m\u001b[43m \u001b[49m\u001b[43mretain_graph\u001b[49m\u001b[43m,\u001b[49m\u001b[43m \u001b[49m\u001b[43mcreate_graph\u001b[49m\u001b[43m,\u001b[49m\u001b[43m \u001b[49m\u001b[43minputs\u001b[49m\u001b[38;5;241;43m=\u001b[39;49m\u001b[43minputs\u001b[49m\n\u001b[1;32m    527\u001b[0m \u001b[43m\u001b[49m\u001b[43m)\u001b[49m\n",
      "File \u001b[0;32m~/Desktop/Fe-Boryl_complexes/.venv/lib/python3.12/site-packages/torch/autograd/__init__.py:267\u001b[0m, in \u001b[0;36mbackward\u001b[0;34m(tensors, grad_tensors, retain_graph, create_graph, grad_variables, inputs)\u001b[0m\n\u001b[1;32m    262\u001b[0m     retain_graph \u001b[38;5;241m=\u001b[39m create_graph\n\u001b[1;32m    264\u001b[0m \u001b[38;5;66;03m# The reason we repeat the same comment below is that\u001b[39;00m\n\u001b[1;32m    265\u001b[0m \u001b[38;5;66;03m# some Python versions print out the first line of a multi-line function\u001b[39;00m\n\u001b[1;32m    266\u001b[0m \u001b[38;5;66;03m# calls in the traceback and some print out the last line\u001b[39;00m\n\u001b[0;32m--> 267\u001b[0m \u001b[43m_engine_run_backward\u001b[49m\u001b[43m(\u001b[49m\n\u001b[1;32m    268\u001b[0m \u001b[43m    \u001b[49m\u001b[43mtensors\u001b[49m\u001b[43m,\u001b[49m\n\u001b[1;32m    269\u001b[0m \u001b[43m    \u001b[49m\u001b[43mgrad_tensors_\u001b[49m\u001b[43m,\u001b[49m\n\u001b[1;32m    270\u001b[0m \u001b[43m    \u001b[49m\u001b[43mretain_graph\u001b[49m\u001b[43m,\u001b[49m\n\u001b[1;32m    271\u001b[0m \u001b[43m    \u001b[49m\u001b[43mcreate_graph\u001b[49m\u001b[43m,\u001b[49m\n\u001b[1;32m    272\u001b[0m \u001b[43m    \u001b[49m\u001b[43minputs\u001b[49m\u001b[43m,\u001b[49m\n\u001b[1;32m    273\u001b[0m \u001b[43m    \u001b[49m\u001b[43mallow_unreachable\u001b[49m\u001b[38;5;241;43m=\u001b[39;49m\u001b[38;5;28;43;01mTrue\u001b[39;49;00m\u001b[43m,\u001b[49m\n\u001b[1;32m    274\u001b[0m \u001b[43m    \u001b[49m\u001b[43maccumulate_grad\u001b[49m\u001b[38;5;241;43m=\u001b[39;49m\u001b[38;5;28;43;01mTrue\u001b[39;49;00m\u001b[43m,\u001b[49m\n\u001b[1;32m    275\u001b[0m \u001b[43m\u001b[49m\u001b[43m)\u001b[49m\n",
      "File \u001b[0;32m~/Desktop/Fe-Boryl_complexes/.venv/lib/python3.12/site-packages/torch/autograd/graph.py:744\u001b[0m, in \u001b[0;36m_engine_run_backward\u001b[0;34m(t_outputs, *args, **kwargs)\u001b[0m\n\u001b[1;32m    742\u001b[0m     unregister_hooks \u001b[38;5;241m=\u001b[39m _register_logging_hooks_on_whole_graph(t_outputs)\n\u001b[1;32m    743\u001b[0m \u001b[38;5;28;01mtry\u001b[39;00m:\n\u001b[0;32m--> 744\u001b[0m     \u001b[38;5;28;01mreturn\u001b[39;00m \u001b[43mVariable\u001b[49m\u001b[38;5;241;43m.\u001b[39;49m\u001b[43m_execution_engine\u001b[49m\u001b[38;5;241;43m.\u001b[39;49m\u001b[43mrun_backward\u001b[49m\u001b[43m(\u001b[49m\u001b[43m  \u001b[49m\u001b[38;5;66;43;03m# Calls into the C++ engine to run the backward pass\u001b[39;49;00m\n\u001b[1;32m    745\u001b[0m \u001b[43m        \u001b[49m\u001b[43mt_outputs\u001b[49m\u001b[43m,\u001b[49m\u001b[43m \u001b[49m\u001b[38;5;241;43m*\u001b[39;49m\u001b[43margs\u001b[49m\u001b[43m,\u001b[49m\u001b[43m \u001b[49m\u001b[38;5;241;43m*\u001b[39;49m\u001b[38;5;241;43m*\u001b[39;49m\u001b[43mkwargs\u001b[49m\n\u001b[1;32m    746\u001b[0m \u001b[43m    \u001b[49m\u001b[43m)\u001b[49m  \u001b[38;5;66;03m# Calls into the C++ engine to run the backward pass\u001b[39;00m\n\u001b[1;32m    747\u001b[0m \u001b[38;5;28;01mfinally\u001b[39;00m:\n\u001b[1;32m    748\u001b[0m     \u001b[38;5;28;01mif\u001b[39;00m attach_logging_hooks:\n",
      "\u001b[0;31mKeyboardInterrupt\u001b[0m: "
     ]
    }
   ],
   "source": [
    "run_gcn_mse(hp)"
   ]
  },
  {
   "cell_type": "code",
   "execution_count": null,
   "metadata": {},
   "outputs": [],
   "source": []
  }
 ],
 "metadata": {
  "kernelspec": {
   "display_name": "your_env_name",
   "language": "python",
   "name": "your_env_name"
  },
  "language_info": {
   "codemirror_mode": {
    "name": "ipython",
    "version": 3
   },
   "file_extension": ".py",
   "mimetype": "text/x-python",
   "name": "python",
   "nbconvert_exporter": "python",
   "pygments_lexer": "ipython3",
   "version": "3.12.4"
  }
 },
 "nbformat": 4,
 "nbformat_minor": 2
}
