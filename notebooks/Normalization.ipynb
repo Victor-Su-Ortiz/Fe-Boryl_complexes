{
 "cells": [
  {
   "cell_type": "code",
   "execution_count": 191,
   "metadata": {},
   "outputs": [],
   "source": [
    "import torch\n",
    "import os\n",
    "import numpy as np\n",
    "from torch.utils.data.dataset import random_split\n",
    "from torch_geometric.loader import DataLoader"
   ]
  },
  {
   "cell_type": "code",
   "execution_count": 190,
   "metadata": {},
   "outputs": [],
   "source": [
    "torch.manual_seed(2024)\n",
    "\n",
    "def load_all_graphs(folder_path):\n",
    "    # Get a list of all .pt files in the folder\n",
    "    file_paths = [os.path.join(folder_path, file) for file in os.listdir(folder_path) if file.endswith('.pth')]\n",
    "\n",
    "    # Load all the graphs from the files\n",
    "    all_graphs = []\n",
    "    for file_path in file_paths:\n",
    "        graph_dict = torch.load(file_path)\n",
    "        all_graphs.append(graph_dict)\n",
    "\n",
    "    return all_graphs\n",
    "\n",
    "all_graphs = load_all_graphs('./data/torch_processed/')\n",
    "\n",
    "# Assuming all_graphs is a list of Data objects\n",
    "for graph in all_graphs:\n",
    "    HS_E_red = torch.tensor(graph['HS_E_red'].reshape(-1, 1))\n",
    "    LS_E_red = torch.tensor(graph['LS_E_red'].reshape(-1, 1))\n",
    "    graph.y = torch.cat((HS_E_red, LS_E_red), dim=1)"
   ]
  },
  {
   "cell_type": "code",
   "execution_count": 192,
   "metadata": {},
   "outputs": [],
   "source": [
    "data_loader = DataLoader(all_graphs, shuffle=True)\n",
    "# Calculate the number of samples for each dataset\n",
    "num_graphs = len(all_graphs)\n",
    "num_train = int(num_graphs * 0.7)\n",
    "num_val = int(num_graphs * 0.15)\n",
    "num_test = num_graphs - num_train - num_val  # Ensure the remaining data goes to the test set\n",
    "\n",
    "# Split the dataset\n",
    "train_data, val_data, test_data = random_split(all_graphs, [num_train, num_val, num_test])\n",
    "\n",
    "# Create DataLoaders for each dataset\n",
    "train_loader = DataLoader(train_data, batch_size=16, shuffle=True)\n",
    "val_loader = DataLoader(val_data, batch_size=16, shuffle=False)\n",
    "test_loader = DataLoader(test_data, batch_size=16, shuffle=False)"
   ]
  },
  {
   "cell_type": "code",
   "execution_count": 186,
   "metadata": {},
   "outputs": [
    {
     "name": "stdout",
     "output_type": "stream",
     "text": [
      "Number of samples in the training set: 445\n",
      "Number of samples in the validation set: 95\n",
      "Number of samples in the test set: 97\n",
      "Total number of samples: 637\n"
     ]
    }
   ],
   "source": [
    "print(f\"Number of samples in the training set: {len(train_loader.dataset)}\")\n",
    "print(f\"Number of samples in the validation set: {len(val_loader.dataset)}\")\n",
    "print(f\"Number of samples in the test set: {len(test_loader.dataset)}\")\n",
    "print(f\"Total number of samples: {len(train_loader.dataset) + len(val_loader.dataset) + len(test_loader.dataset)}\")"
   ]
  },
  {
   "cell_type": "code",
   "execution_count": 199,
   "metadata": {},
   "outputs": [],
   "source": [
    "# Function to calculate mean and std of 'y'\n",
    "def calculate_mean_std(loader):\n",
    "    y_values = []\n",
    "    for batch in loader:\n",
    "        y_values.append(batch.y)\n",
    "    y_values = torch.cat(y_values, dim=0)\n",
    "    print(y_values.shape)\n",
    "    mean = y_values.mean(dim=0)\n",
    "    std = y_values.std(dim=0)\n",
    "    return mean, std"
   ]
  },
  {
   "cell_type": "code",
   "execution_count": 200,
   "metadata": {},
   "outputs": [
    {
     "name": "stdout",
     "output_type": "stream",
     "text": [
      "torch.Size([445, 2])\n",
      "tensor([0.9837, 0.5879], dtype=torch.float64)\n",
      "tensor([0.4854, 0.4394], dtype=torch.float64)\n"
     ]
    }
   ],
   "source": [
    "mean, std = calculate_mean_std(train_loader)\n",
    "print(mean)\n",
    "print(std)"
   ]
  },
  {
   "cell_type": "code",
   "execution_count": 189,
   "metadata": {},
   "outputs": [
    {
     "name": "stdout",
     "output_type": "stream",
     "text": [
      "torch.Size([16, 2])\n"
     ]
    }
   ],
   "source": [
    "for batch in train_loader:\n",
    "    print(batch.y.shape)\n",
    "    break"
   ]
  },
  {
   "cell_type": "code",
   "execution_count": 78,
   "metadata": {},
   "outputs": [
    {
     "ename": "AttributeError",
     "evalue": "'Subset' object has no attribute 'data'",
     "output_type": "error",
     "traceback": [
      "\u001b[0;31m---------------------------------------------------------------------------\u001b[0m",
      "\u001b[0;31mAttributeError\u001b[0m                            Traceback (most recent call last)",
      "Cell \u001b[0;32mIn[78], line 1\u001b[0m\n\u001b[0;32m----> 1\u001b[0m mean \u001b[38;5;241m=\u001b[39m \u001b[43mtrain_loader\u001b[49m\u001b[38;5;241;43m.\u001b[39;49m\u001b[43mdataset\u001b[49m\u001b[38;5;241;43m.\u001b[39;49m\u001b[43mdata\u001b[49m\u001b[38;5;241m.\u001b[39my\u001b[38;5;241m.\u001b[39mmean(dim\u001b[38;5;241m=\u001b[39m\u001b[38;5;241m0\u001b[39m)\n",
      "\u001b[0;31mAttributeError\u001b[0m: 'Subset' object has no attribute 'data'"
     ]
    }
   ],
   "source": []
  },
  {
   "cell_type": "code",
   "execution_count": null,
   "metadata": {},
   "outputs": [],
   "source": []
  }
 ],
 "metadata": {
  "kernelspec": {
   "display_name": "your_env_name",
   "language": "python",
   "name": "your_env_name"
  },
  "language_info": {
   "codemirror_mode": {
    "name": "ipython",
    "version": 3
   },
   "file_extension": ".py",
   "mimetype": "text/x-python",
   "name": "python",
   "nbconvert_exporter": "python",
   "pygments_lexer": "ipython3",
   "version": "3.12.4"
  }
 },
 "nbformat": 4,
 "nbformat_minor": 2
}
