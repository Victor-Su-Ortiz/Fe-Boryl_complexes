{
 "cells": [
  {
   "cell_type": "code",
   "execution_count": 61,
   "metadata": {},
   "outputs": [],
   "source": [
    "import torch\n",
    "import os\n",
    "import numpy as np\n",
    "from torch.utils.data.dataset import random_split\n",
    "from torch_geometric.loader import DataLoader"
   ]
  },
  {
   "cell_type": "code",
   "execution_count": 107,
   "metadata": {},
   "outputs": [],
   "source": [
    "torch.manual_seed(2024)\n",
    "\n",
    "def load_all_graphs(folder_path):\n",
    "    # Get a list of all .pt files in the folder\n",
    "    file_paths = [os.path.join(folder_path, file) for file in os.listdir(folder_path) if file.endswith('.pth')]\n",
    "\n",
    "    # Load all the graphs from the files\n",
    "    all_graphs = []\n",
    "    for file_path in file_paths:\n",
    "        graph_dict = torch.load(file_path)\n",
    "        all_graphs.append(graph_dict)\n",
    "\n",
    "    return all_graphs\n",
    "\n",
    "all_graphs = load_all_graphs('./data/torch_processed/')\n",
    "\n",
    "# Assuming all_graphs is a list of Data objects\n",
    "for graph in all_graphs:\n",
    "    #convet HS_E_red and LS_E_red to tensor\n",
    "    HS_E_red = graph['HS_E_red']\n",
    "    LS_E_red = graph['LS_E_red']"
   ]
  },
  {
   "cell_type": "code",
   "execution_count": 133,
   "metadata": {},
   "outputs": [
    {
     "data": {
      "text/plain": [
       "list"
      ]
     },
     "execution_count": 133,
     "metadata": {},
     "output_type": "execute_result"
    }
   ],
   "source": [
    "\n",
    "for graph in all_graphs: \n",
    "    "
   ]
  },
  {
   "cell_type": "code",
   "execution_count": 146,
   "metadata": {},
   "outputs": [],
   "source": [
    "data_loader = DataLoader(all_graphs, shuffle=True)\n",
    "# Calculate the number of samples for each dataset\n",
    "num_graphs = len(all_graphs)\n",
    "num_train = int(num_graphs * 0.7)\n",
    "num_val = int(num_graphs * 0.15)\n",
    "num_test = num_graphs - num_train - num_val  # Ensure the remaining data goes to the test set\n",
    "\n",
    "# Split the dataset\n",
    "train_data, val_data, test_data = random_split(all_graphs, [num_train, num_val, num_test])\n",
    "\n",
    "# Create DataLoaders for each dataset\n",
    "train_loader = DataLoader(train_data, batch_size=16, shuffle=True)\n",
    "val_loader = DataLoader(val_data, batch_size=16, shuffle=False)\n",
    "test_loader = DataLoader(test_data, batch_size=16, shuffle=False)"
   ]
  },
  {
   "cell_type": "code",
   "execution_count": 147,
   "metadata": {},
   "outputs": [
    {
     "name": "stdout",
     "output_type": "stream",
     "text": [
      "Number of samples in the training set: 445\n",
      "Number of samples in the validation set: 95\n",
      "Number of samples in the test set: 97\n",
      "Total number of samples: 637\n"
     ]
    }
   ],
   "source": [
    "print(f\"Number of samples in the training set: {len(train_loader.dataset)}\")\n",
    "print(f\"Number of samples in the validation set: {len(val_loader.dataset)}\")\n",
    "print(f\"Number of samples in the test set: {len(test_loader.dataset)}\")\n",
    "print(f\"Total number of samples: {len(train_loader.dataset) + len(val_loader.dataset) + len(test_loader.dataset)}\")"
   ]
  },
  {
   "cell_type": "code",
   "execution_count": 151,
   "metadata": {},
   "outputs": [],
   "source": [
    "# Function to calculate mean and std of 'y'\n",
    "def calculate_mean_std(loader):\n",
    "    HS_values = []\n",
    "    LS_values = []\n",
    "    for batch in loader:\n",
    "        HS_values.append(batch['HS_E_red'])\n",
    "        LS_values.append(batch['LS_E_red'])\n",
    "        print(batch)\n",
    "    HS_values = torch.cat(HS_values, dim=0)\n",
    "    LS_values = torch.cat(LS_values, dim=0)\n",
    "    HS_mean = HS_values.mean(dim=0)\n",
    "    LS_mean = LS_values.mean(dim=0)\n",
    "    HS_std = HS_values.std(dim=0)\n",
    "    LS_std = LS_values.std(dim=0)\n",
    "    return HS_mean, HS_std,LS_mean, LS_std"
   ]
  },
  {
   "cell_type": "code",
   "execution_count": 152,
   "metadata": {},
   "outputs": [
    {
     "name": "stdout",
     "output_type": "stream",
     "text": [
      "DataBatch(x=[454, 4], edge_index=[2, 470], HS_SCF_3=[16], HS_SCF_2=[16], HS_Delta_SCF=[16], HS_E_red=[16], LS_SCF_3=[16], LS_SCF_2=[16], LS_Delta_SCF=[16], LS_E_red=[16], batch=[454], ptr=[17])\n",
      "DataBatch(x=[453, 4], edge_index=[2, 452], HS_SCF_3=[16], HS_SCF_2=[16], HS_Delta_SCF=[16], HS_E_red=[16], LS_SCF_3=[16], LS_SCF_2=[16], LS_Delta_SCF=[16], LS_E_red=[16], batch=[453], ptr=[17])\n",
      "DataBatch(x=[464, 4], edge_index=[2, 478], HS_SCF_3=[16], HS_SCF_2=[16], HS_Delta_SCF=[16], HS_E_red=[16], LS_SCF_3=[16], LS_SCF_2=[16], LS_Delta_SCF=[16], LS_E_red=[16], batch=[464], ptr=[17])\n",
      "DataBatch(x=[397, 4], edge_index=[2, 394], HS_SCF_3=[16], HS_SCF_2=[16], HS_Delta_SCF=[16], HS_E_red=[16], LS_SCF_3=[16], LS_SCF_2=[16], LS_Delta_SCF=[16], LS_E_red=[16], batch=[397], ptr=[17])\n",
      "DataBatch(x=[444, 4], edge_index=[2, 445], HS_SCF_3=[16], HS_SCF_2=[16], HS_Delta_SCF=[16], HS_E_red=[16], LS_SCF_3=[16], LS_SCF_2=[16], LS_Delta_SCF=[16], LS_E_red=[16], batch=[444], ptr=[17])\n",
      "DataBatch(x=[442, 4], edge_index=[2, 442], HS_SCF_3=[16], HS_SCF_2=[16], HS_Delta_SCF=[16], HS_E_red=[16], LS_SCF_3=[16], LS_SCF_2=[16], LS_Delta_SCF=[16], LS_E_red=[16], batch=[442], ptr=[17])\n",
      "DataBatch(x=[485, 4], edge_index=[2, 498], HS_SCF_3=[16], HS_SCF_2=[16], HS_Delta_SCF=[16], HS_E_red=[16], LS_SCF_3=[16], LS_SCF_2=[16], LS_Delta_SCF=[16], LS_E_red=[16], batch=[485], ptr=[17])\n",
      "DataBatch(x=[424, 4], edge_index=[2, 417], HS_SCF_3=[16], HS_SCF_2=[16], HS_Delta_SCF=[16], HS_E_red=[16], LS_SCF_3=[16], LS_SCF_2=[16], LS_Delta_SCF=[16], LS_E_red=[16], batch=[424], ptr=[17])\n",
      "DataBatch(x=[427, 4], edge_index=[2, 422], HS_SCF_3=[16], HS_SCF_2=[16], HS_Delta_SCF=[16], HS_E_red=[16], LS_SCF_3=[16], LS_SCF_2=[16], LS_Delta_SCF=[16], LS_E_red=[16], batch=[427], ptr=[17])\n",
      "DataBatch(x=[425, 4], edge_index=[2, 416], HS_SCF_3=[16], HS_SCF_2=[16], HS_Delta_SCF=[16], HS_E_red=[16], LS_SCF_3=[16], LS_SCF_2=[16], LS_Delta_SCF=[16], LS_E_red=[16], batch=[425], ptr=[17])\n",
      "DataBatch(x=[494, 4], edge_index=[2, 495], HS_SCF_3=[16], HS_SCF_2=[16], HS_Delta_SCF=[16], HS_E_red=[16], LS_SCF_3=[16], LS_SCF_2=[16], LS_Delta_SCF=[16], LS_E_red=[16], batch=[494], ptr=[17])\n",
      "DataBatch(x=[429, 4], edge_index=[2, 438], HS_SCF_3=[16], HS_SCF_2=[16], HS_Delta_SCF=[16], HS_E_red=[16], LS_SCF_3=[16], LS_SCF_2=[16], LS_Delta_SCF=[16], LS_E_red=[16], batch=[429], ptr=[17])\n",
      "DataBatch(x=[447, 4], edge_index=[2, 451], HS_SCF_3=[16], HS_SCF_2=[16], HS_Delta_SCF=[16], HS_E_red=[16], LS_SCF_3=[16], LS_SCF_2=[16], LS_Delta_SCF=[16], LS_E_red=[16], batch=[447], ptr=[17])\n",
      "DataBatch(x=[464, 4], edge_index=[2, 473], HS_SCF_3=[16], HS_SCF_2=[16], HS_Delta_SCF=[16], HS_E_red=[16], LS_SCF_3=[16], LS_SCF_2=[16], LS_Delta_SCF=[16], LS_E_red=[16], batch=[464], ptr=[17])\n",
      "DataBatch(x=[492, 4], edge_index=[2, 506], HS_SCF_3=[16], HS_SCF_2=[16], HS_Delta_SCF=[16], HS_E_red=[16], LS_SCF_3=[16], LS_SCF_2=[16], LS_Delta_SCF=[16], LS_E_red=[16], batch=[492], ptr=[17])\n",
      "DataBatch(x=[447, 4], edge_index=[2, 443], HS_SCF_3=[16], HS_SCF_2=[16], HS_Delta_SCF=[16], HS_E_red=[16], LS_SCF_3=[16], LS_SCF_2=[16], LS_Delta_SCF=[16], LS_E_red=[16], batch=[447], ptr=[17])\n",
      "DataBatch(x=[423, 4], edge_index=[2, 416], HS_SCF_3=[16], HS_SCF_2=[16], HS_Delta_SCF=[16], HS_E_red=[16], LS_SCF_3=[16], LS_SCF_2=[16], LS_Delta_SCF=[16], LS_E_red=[16], batch=[423], ptr=[17])\n",
      "DataBatch(x=[444, 4], edge_index=[2, 446], HS_SCF_3=[16], HS_SCF_2=[16], HS_Delta_SCF=[16], HS_E_red=[16], LS_SCF_3=[16], LS_SCF_2=[16], LS_Delta_SCF=[16], LS_E_red=[16], batch=[444], ptr=[17])\n",
      "DataBatch(x=[441, 4], edge_index=[2, 455], HS_SCF_3=[16], HS_SCF_2=[16], HS_Delta_SCF=[16], HS_E_red=[16], LS_SCF_3=[16], LS_SCF_2=[16], LS_Delta_SCF=[16], LS_E_red=[16], batch=[441], ptr=[17])\n",
      "DataBatch(x=[447, 4], edge_index=[2, 457], HS_SCF_3=[16], HS_SCF_2=[16], HS_Delta_SCF=[16], HS_E_red=[16], LS_SCF_3=[16], LS_SCF_2=[16], LS_Delta_SCF=[16], LS_E_red=[16], batch=[447], ptr=[17])\n",
      "DataBatch(x=[453, 4], edge_index=[2, 458], HS_SCF_3=[16], HS_SCF_2=[16], HS_Delta_SCF=[16], HS_E_red=[16], LS_SCF_3=[16], LS_SCF_2=[16], LS_Delta_SCF=[16], LS_E_red=[16], batch=[453], ptr=[17])\n",
      "DataBatch(x=[430, 4], edge_index=[2, 423], HS_SCF_3=[16], HS_SCF_2=[16], HS_Delta_SCF=[16], HS_E_red=[16], LS_SCF_3=[16], LS_SCF_2=[16], LS_Delta_SCF=[16], LS_E_red=[16], batch=[430], ptr=[17])\n",
      "DataBatch(x=[443, 4], edge_index=[2, 434], HS_SCF_3=[16], HS_SCF_2=[16], HS_Delta_SCF=[16], HS_E_red=[16], LS_SCF_3=[16], LS_SCF_2=[16], LS_Delta_SCF=[16], LS_E_red=[16], batch=[443], ptr=[17])\n",
      "DataBatch(x=[429, 4], edge_index=[2, 424], HS_SCF_3=[16], HS_SCF_2=[16], HS_Delta_SCF=[16], HS_E_red=[16], LS_SCF_3=[16], LS_SCF_2=[16], LS_Delta_SCF=[16], LS_E_red=[16], batch=[429], ptr=[17])\n",
      "DataBatch(x=[426, 4], edge_index=[2, 427], HS_SCF_3=[16], HS_SCF_2=[16], HS_Delta_SCF=[16], HS_E_red=[16], LS_SCF_3=[16], LS_SCF_2=[16], LS_Delta_SCF=[16], LS_E_red=[16], batch=[426], ptr=[17])\n",
      "DataBatch(x=[468, 4], edge_index=[2, 469], HS_SCF_3=[16], HS_SCF_2=[16], HS_Delta_SCF=[16], HS_E_red=[16], LS_SCF_3=[16], LS_SCF_2=[16], LS_Delta_SCF=[16], LS_E_red=[16], batch=[468], ptr=[17])\n",
      "DataBatch(x=[455, 4], edge_index=[2, 494], HS_SCF_3=[16], HS_SCF_2=[16], HS_Delta_SCF=[16], HS_E_red=[16], LS_SCF_3=[16], LS_SCF_2=[16], LS_Delta_SCF=[16], LS_E_red=[16], batch=[455], ptr=[17])\n",
      "DataBatch(x=[342, 4], edge_index=[2, 342], HS_SCF_3=[13], HS_SCF_2=[13], HS_Delta_SCF=[13], HS_E_red=[13], LS_SCF_3=[13], LS_SCF_2=[13], LS_Delta_SCF=[13], LS_E_red=[13], batch=[342], ptr=[14])\n",
      "HS_E_red mean: 0.9558074306989363\n"
     ]
    }
   ],
   "source": [
    "HS_mean, HS_std, LS_mean, LS_std = calculate_mean_std(train_loader)\n",
    "print(f\"HS_E_red mean: {HS_mean}\")"
   ]
  },
  {
   "cell_type": "code",
   "execution_count": 74,
   "metadata": {},
   "outputs": [
    {
     "name": "stdout",
     "output_type": "stream",
     "text": [
      "DataBatch(x=[1007, 4], edge_index=[2, 1028], HS_SCF_3=[36], HS_SCF_2=[36], HS_Delta_SCF=[36], HS_E_red=[36], LS_SCF_3=[36], LS_SCF_2=[36], LS_Delta_SCF=[36], LS_E_red=[36], y=[72], batch=[1007], ptr=[37])\n"
     ]
    }
   ],
   "source": [
    "for data in train_loader:\n",
    "    print(data)\n",
    "    break"
   ]
  },
  {
   "cell_type": "code",
   "execution_count": 78,
   "metadata": {},
   "outputs": [
    {
     "ename": "AttributeError",
     "evalue": "'Subset' object has no attribute 'data'",
     "output_type": "error",
     "traceback": [
      "\u001b[0;31m---------------------------------------------------------------------------\u001b[0m",
      "\u001b[0;31mAttributeError\u001b[0m                            Traceback (most recent call last)",
      "Cell \u001b[0;32mIn[78], line 1\u001b[0m\n\u001b[0;32m----> 1\u001b[0m mean \u001b[38;5;241m=\u001b[39m \u001b[43mtrain_loader\u001b[49m\u001b[38;5;241;43m.\u001b[39;49m\u001b[43mdataset\u001b[49m\u001b[38;5;241;43m.\u001b[39;49m\u001b[43mdata\u001b[49m\u001b[38;5;241m.\u001b[39my\u001b[38;5;241m.\u001b[39mmean(dim\u001b[38;5;241m=\u001b[39m\u001b[38;5;241m0\u001b[39m)\n",
      "\u001b[0;31mAttributeError\u001b[0m: 'Subset' object has no attribute 'data'"
     ]
    }
   ],
   "source": []
  },
  {
   "cell_type": "code",
   "execution_count": null,
   "metadata": {},
   "outputs": [],
   "source": []
  }
 ],
 "metadata": {
  "kernelspec": {
   "display_name": "your_env_name",
   "language": "python",
   "name": "your_env_name"
  },
  "language_info": {
   "codemirror_mode": {
    "name": "ipython",
    "version": 3
   },
   "file_extension": ".py",
   "mimetype": "text/x-python",
   "name": "python",
   "nbconvert_exporter": "python",
   "pygments_lexer": "ipython3",
   "version": "3.12.4"
  }
 },
 "nbformat": 4,
 "nbformat_minor": 2
}
