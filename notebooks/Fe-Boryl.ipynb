{
 "cells": [
  {
   "cell_type": "code",
   "execution_count": 1,
   "id": "337afa5f-276d-48b2-90d1-f2d159e46c81",
   "metadata": {},
   "outputs": [],
   "source": [
    "import torch\n",
    "import torch.nn.functional as F\n",
    "import numpy as np\n",
    "from torch_geometric.datasets import QM9\n",
    "from torch_geometric.loader import DataLoader\n",
    "from torch_geometric.nn import GCNConv, global_mean_pool"
   ]
  },
  {
   "cell_type": "code",
   "execution_count": 3,
   "id": "9356fa3c-2949-4fd3-8e4d-6d7522a9e948",
   "metadata": {},
   "outputs": [
    {
     "name": "stdout",
     "output_type": "stream",
     "text": [
      "Atom Types: ['Fe', 'B', 'N', 'C', 'C', 'N', 'C', 'C', 'H', 'H', 'H', 'H', 'H', 'H', 'H', 'H', 'H', 'H', 'H', 'H', 'O', 'H', 'H', 'O', 'H', 'H', 'O', 'H', 'H', 'O', 'H', 'H', 'O', 'H', 'H']\n",
      "Coordinates Tensor: tensor([[ 0.0000,  0.0000,  0.0000],\n",
      "        [ 0.0000,  2.1000, -0.0000],\n",
      "        [-1.3158,  2.8750,  0.2655],\n",
      "        [-1.6295,  3.7201, -0.8956],\n",
      "        [-2.4111,  1.9197,  0.4865],\n",
      "        [ 1.3158,  2.8750, -0.2655],\n",
      "        [ 2.4111,  1.9198, -0.4865],\n",
      "        [ 1.1548,  3.7201, -1.4574],\n",
      "        [-1.7468,  3.1050, -1.7632],\n",
      "        [-2.5379,  4.2551, -0.7124],\n",
      "        [-0.8323,  4.4154, -1.0565],\n",
      "        [-2.5283,  1.3046, -0.3811],\n",
      "        [-2.1827,  1.3046,  1.3317],\n",
      "        [-3.3194,  2.4547,  0.6698],\n",
      "        [ 2.1827,  1.3046, -1.3317],\n",
      "        [ 3.3194,  2.4548, -0.6698],\n",
      "        [ 2.5283,  1.3046,  0.3811],\n",
      "        [ 0.9264,  3.1050, -2.3026],\n",
      "        [ 0.3575,  4.4154, -1.2966],\n",
      "        [ 2.0631,  4.2551, -1.6407],\n",
      "        [ 2.0800, -0.0000, -0.0000],\n",
      "        [ 2.7151, -0.0726,  0.7690],\n",
      "        [ 2.6655,  0.0726, -0.7690],\n",
      "        [-0.0000, -2.0800,  0.0000],\n",
      "        [-0.0993, -2.7151,  0.7660],\n",
      "        [ 0.0993, -2.6655, -0.7660],\n",
      "        [-2.0800,  0.0000,  0.0000],\n",
      "        [-2.7151, -0.0726, -0.7690],\n",
      "        [-2.6655,  0.0726,  0.7690],\n",
      "        [ 0.0000,  0.0000,  2.0800],\n",
      "        [-0.7660, -0.0993,  2.7151],\n",
      "        [ 0.7660,  0.0993,  2.6655],\n",
      "        [ 0.0000, -0.0000, -2.0800],\n",
      "        [ 0.7711, -0.0455, -2.7151],\n",
      "        [-0.7711,  0.0455, -2.6655]], dtype=torch.float64)\n"
     ]
    }
   ],
   "source": [
    "def read_xyz(file_path):\n",
    "    with open(file_path, 'r') as file:\n",
    "        lines = file.readlines()\n",
    "    \n",
    "    atom_count = int(lines[0].strip())\n",
    "    comment = lines[1].strip()\n",
    "    \n",
    "    atom_types = []\n",
    "    coordinates = []\n",
    "    for line in lines[2:]:\n",
    "        parts = line.split()\n",
    "        if len(parts) == 4:\n",
    "            atom_types.append(parts[0])\n",
    "            coordinates.append([float(parts[1]), float(parts[2]), float(parts[3])])\n",
    "    \n",
    "    return atom_types, np.array(coordinates)\n",
    "\n",
    "# Example usage\n",
    "file_path = '/Users/victorsu-ortiz/Desktop/Fe-Boryl_complexes/data/xyz_molsimp/monosubstituted_0001.xyz'\n",
    "atom_types, coordinates = read_xyz(file_path)\n",
    "tensor = torch.tensor(coordinates)\n",
    "\n",
    "print(\"Atom Types:\", atom_types)\n",
    "print(\"Coordinates Tensor:\", tensor)\n"
   ]
  },
  {
   "cell_type": "code",
   "execution_count": 4,
   "id": "d3a23035",
   "metadata": {},
   "outputs": [
    {
     "name": "stdout",
     "output_type": "stream",
     "text": [
      "Edge Index: tensor([[ 2,  3,  2,  4,  3,  8,  3,  9,  3, 10,  4, 11,  4, 12,  4, 13,  5,  6,\n",
      "          5,  7,  6, 14,  6, 15,  6, 16,  7, 17,  7, 18,  7, 19, 10, 18, 11, 26,\n",
      "         11, 27, 12, 28, 14, 22, 16, 20, 16, 21, 20, 21, 20, 22, 23, 24, 23, 25,\n",
      "         26, 27, 26, 28, 29, 30, 29, 31, 32, 33, 32, 34],\n",
      "        [ 3,  2,  4,  2,  8,  3,  9,  3, 10,  3, 11,  4, 12,  4, 13,  4,  6,  5,\n",
      "          7,  5, 14,  6, 15,  6, 16,  6, 17,  7, 18,  7, 19,  7, 18, 10, 26, 11,\n",
      "         27, 11, 28, 12, 22, 14, 20, 16, 21, 16, 21, 20, 22, 20, 24, 23, 25, 23,\n",
      "         27, 26, 28, 26, 30, 29, 31, 29, 33, 32, 34, 32]])\n",
      "Edge Index Shape: torch.Size([2, 66])\n"
     ]
    }
   ],
   "source": [
    "from scipy.spatial.distance import pdist, squareform\n",
    "\n",
    "def create_graph(coordinates, threshold=1.5):\n",
    "    num_atoms = coordinates.shape[0]\n",
    "    edge_index = []\n",
    "    \n",
    "    # Calculate pairwise distances\n",
    "    distances = squareform(pdist(coordinates))\n",
    "    \n",
    "    # Create edges based on the distance threshold\n",
    "    for i in range(num_atoms):\n",
    "        for j in range(i + 1, num_atoms):\n",
    "            if distances[i, j] <= threshold:\n",
    "                edge_index.append([i, j])\n",
    "                edge_index.append([j, i])\n",
    "    \n",
    "    edge_index = torch.tensor(edge_index, dtype=torch.long).t().contiguous()\n",
    "    return edge_index\n",
    "\n",
    "# Create edge index\n",
    "edge_index = create_graph(coordinates)\n",
    "print(\"Edge Index:\", edge_index)\n",
    "print(\"Edge Index Shape:\", edge_index.shape)"
   ]
  },
  {
   "cell_type": "code",
   "execution_count": 10,
   "id": "77ada0c5",
   "metadata": {},
   "outputs": [
    {
     "name": "stdout",
     "output_type": "stream",
     "text": [
      "Graph data saved to graph_data.pth\n"
     ]
    }
   ],
   "source": [
    "import torch\n",
    "from torch_geometric.data import Data\n",
    "\n",
    "# Assuming `data` is the Data object created previously\n",
    "def save_graph_data(data, file_path):\n",
    "    torch.save(data, file_path)\n",
    "    print(f\"Graph data saved to {file_path}\")\n",
    "\n",
    "# Example usage\n",
    "save_path = 'graph_data.pth'\n",
    "save_graph_data(edge_index, save_path)\n",
    "\n"
   ]
  },
  {
   "cell_type": "code",
   "execution_count": 5,
   "id": "d9477de1",
   "metadata": {},
   "outputs": [
    {
     "name": "stdout",
     "output_type": "stream",
     "text": [
      "GCN(\n",
      "  (conv1): GCNConv(3, 16)\n",
      "  (conv2): GCNConv(16, 3)\n",
      ")\n"
     ]
    }
   ],
   "source": [
    "import torch\n",
    "import torch.nn.functional as F\n",
    "from torch_geometric.nn import GCNConv\n",
    "\n",
    "class GCN(torch.nn.Module):\n",
    "    def __init__(self, num_node_features, hidden_channels, num_classes):\n",
    "        super(GCN, self).__init__()\n",
    "        self.conv1 = GCNConv(num_node_features, hidden_channels)\n",
    "        self.conv2 = GCNConv(hidden_channels, num_classes)\n",
    "\n",
    "    def forward(self, x, edge_index):\n",
    "        x = self.conv1(x, edge_index)\n",
    "        x = F.relu(x)\n",
    "        x = self.conv2(x, edge_index)\n",
    "        return x\n",
    "\n",
    "# Example usage\n",
    "num_node_features = 3  # Assuming 3 features per node (x, y, z coordinates)\n",
    "hidden_channels = 16\n",
    "num_classes = 3  # Example number of output classes, modify as needed\n",
    "\n",
    "model = GCN(num_node_features, hidden_channels, num_classes)\n",
    "print(model)\n"
   ]
  },
  {
   "cell_type": "code",
   "execution_count": 7,
   "id": "8cde1e4f",
   "metadata": {},
   "outputs": [
    {
     "name": "stdout",
     "output_type": "stream",
     "text": [
      "Epoch 0, Loss: 1.1623022556304932\n",
      "Epoch 10, Loss: 1.1320455074310303\n",
      "Epoch 20, Loss: 1.0984742641448975\n",
      "Epoch 30, Loss: 1.1089043617248535\n",
      "Epoch 40, Loss: 1.1205363273620605\n",
      "Epoch 50, Loss: 1.1085790395736694\n",
      "Epoch 60, Loss: 1.0914461612701416\n",
      "Epoch 70, Loss: 1.0596809387207031\n",
      "Epoch 80, Loss: 1.1232807636260986\n",
      "Epoch 90, Loss: 1.1249876022338867\n",
      "Epoch 100, Loss: 1.1060377359390259\n",
      "Epoch 110, Loss: 1.1225318908691406\n",
      "Epoch 120, Loss: 1.0868167877197266\n",
      "Epoch 130, Loss: 1.1160945892333984\n",
      "Epoch 140, Loss: 1.0989574193954468\n",
      "Epoch 150, Loss: 1.1189559698104858\n",
      "Epoch 160, Loss: 1.1121286153793335\n",
      "Epoch 170, Loss: 1.0843645334243774\n",
      "Epoch 180, Loss: 1.107606053352356\n",
      "Epoch 190, Loss: 1.1289457082748413\n"
     ]
    }
   ],
   "source": [
    "from torch_geometric.data import Data\n",
    "# Convert coordinates to tensor\n",
    "coordinates_tensor = torch.tensor(coordinates, dtype=torch.float)\n",
    "\n",
    "# Create the graph data object\n",
    "data = Data(x=coordinates_tensor, edge_index=edge_index)\n",
    "\n",
    "# Training the model (example)\n",
    "optimizer = torch.optim.Adam(model.parameters(), lr=0.01)\n",
    "criterion = torch.nn.CrossEntropyLoss()\n",
    "\n",
    "# Example training loop\n",
    "model.train()\n",
    "for epoch in range(200):\n",
    "    optimizer.zero_grad()\n",
    "    out = model(data.x, data.edge_index)\n",
    "    # Assuming labels are available (for simplicity, using dummy labels here)\n",
    "    labels = torch.randint(0, num_classes, (coordinates_tensor.size(0),))\n",
    "    loss = criterion(out, labels)\n",
    "    loss.backward()\n",
    "    optimizer.step()\n",
    "    if epoch % 10 == 0:\n",
    "        print(f'Epoch {epoch}, Loss: {loss.item()}')\n"
   ]
  }
 ],
 "metadata": {
  "kernelspec": {
   "display_name": "your_env_name",
   "language": "python",
   "name": "your_env_name"
  },
  "language_info": {
   "codemirror_mode": {
    "name": "ipython",
    "version": 3
   },
   "file_extension": ".py",
   "mimetype": "text/x-python",
   "name": "python",
   "nbconvert_exporter": "python",
   "pygments_lexer": "ipython3",
   "version": "3.12.4"
  }
 },
 "nbformat": 4,
 "nbformat_minor": 5
}
