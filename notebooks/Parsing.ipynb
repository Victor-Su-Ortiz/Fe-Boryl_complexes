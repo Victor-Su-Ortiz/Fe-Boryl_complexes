{
 "cells": [
  {
   "cell_type": "code",
   "execution_count": 9,
   "metadata": {},
   "outputs": [],
   "source": [
    "from xyz2graph import MolGraph, to_networkx_graph, to_plotly_figure\n",
    "from plotly.offline import init_notebook_mode, iplot\n",
    "import networkx as nx\n",
    "import pandas as pd\n",
    "import re\n",
    "import numpy as np\n",
    "import os\n",
    "import torch\n",
    "import torch_geometric as pyg\n",
    "from torch_geometric.utils import from_networkx\n",
    "from torch_geometric.data import Data\n",
    "import periodictable as pt\n",
    "import glob\n",
    "\n"
   ]
  },
  {
   "cell_type": "code",
   "execution_count": 6,
   "metadata": {},
   "outputs": [
    {
     "data": {
      "application/vnd.plotly.v1+json": {
       "config": {
        "linkText": "Export to plot.ly",
        "plotlyServerURL": "https://plot.ly",
        "showLink": false
       },
       "data": [
        {
         "marker": {
          "color": [
           "darkorange",
           "salmon",
           "blue",
           "black",
           "black",
           "blue",
           "black",
           "black",
           "white",
           "white",
           "white",
           "white",
           "white",
           "white",
           "white",
           "white",
           "white",
           "white",
           "white",
           "white",
           "red",
           "white",
           "white",
           "red",
           "white",
           "white",
           "red",
           "white",
           "white",
           "red",
           "white",
           "white",
           "red",
           "white",
           "white"
          ],
          "line": {
           "color": "lightgray",
           "width": 2
          },
          "opacity": 0.8,
          "size": 7,
          "symbol": "circle"
         },
         "mode": "markers",
         "text": [
          "Fe",
          "B",
          "N",
          "C",
          "C",
          "N",
          "C",
          "C",
          "H",
          "H",
          "H",
          "H",
          "H",
          "H",
          "H",
          "H",
          "H",
          "H",
          "H",
          "H",
          "O",
          "H",
          "H",
          "O",
          "H",
          "H",
          "O",
          "H",
          "H",
          "O",
          "H",
          "H",
          "O",
          "H",
          "H"
         ],
         "type": "scatter3d",
         "x": [
          0,
          0,
          -1.315822,
          -1.629548,
          -2.411063,
          1.315822,
          2.411067,
          1.154756,
          -1.746782,
          -2.537891,
          -0.832329,
          -2.528296,
          -2.182705,
          -3.319404,
          2.182712,
          3.319408,
          2.528302,
          0.926396,
          0.357536,
          2.063098,
          2.08,
          2.715106,
          2.665511,
          0,
          -0.099344,
          0.099344,
          -2.08,
          -2.715106,
          -2.665511,
          0,
          -0.76601,
          0.76601,
          0,
          0.771086,
          -0.771086
         ],
         "y": [
          0,
          2.1,
          2.875,
          3.720125,
          1.919746,
          2.875,
          1.919751,
          3.720123,
          3.104968,
          4.255123,
          4.415444,
          1.304585,
          1.304587,
          2.454746,
          1.30459,
          2.454751,
          1.304596,
          3.104964,
          4.41544,
          4.255123,
          0,
          -0.07255,
          0.07255,
          -2.08,
          -2.715106,
          -2.665511,
          0,
          -0.07255,
          0.07255,
          0,
          -0.099344,
          0.099344,
          0,
          -0.045454,
          0.045454
         ],
         "z": [
          0,
          0,
          0.265496,
          -0.895642,
          0.486484,
          -0.265496,
          -0.486485,
          -1.457438,
          -1.763247,
          -0.712365,
          -1.056493,
          -0.381118,
          1.331666,
          0.669762,
          -1.331666,
          -0.669766,
          0.381121,
          -2.302619,
          -1.296581,
          -1.640715,
          0,
          0.76901,
          -0.76901,
          0,
          0.76601,
          -0.76601,
          0,
          -0.76901,
          0.76901,
          2.08,
          2.715106,
          2.665511,
          -2.08,
          -2.715106,
          -2.665511
         ]
        },
        {
         "hoverinfo": "none",
         "marker": {
          "color": "grey",
          "opacity": 1,
          "size": 7
         },
         "mode": "lines",
         "type": "scatter3d",
         "x": [
          0,
          0,
          null,
          0,
          0,
          null,
          0,
          2.08,
          null,
          0,
          0,
          null,
          0,
          -2.08,
          null,
          0,
          0,
          null,
          0,
          0,
          null,
          0,
          -1.315822,
          null,
          0,
          1.315822,
          null,
          2.08,
          0,
          null,
          2.08,
          2.715106,
          null,
          2.08,
          2.665511,
          null,
          0,
          0,
          null,
          0,
          -0.099344,
          null,
          0,
          0.099344,
          null,
          -2.08,
          0,
          null,
          -2.08,
          -2.715106,
          null,
          -2.08,
          -2.665511,
          null,
          0,
          0,
          null,
          0,
          -0.76601,
          null,
          0,
          0.76601,
          null,
          0,
          0,
          null,
          0,
          0.771086,
          null,
          0,
          -0.771086,
          null,
          -1.315822,
          0,
          null,
          -1.315822,
          -1.629548,
          null,
          -1.315822,
          -2.411063,
          null,
          1.315822,
          0,
          null,
          1.315822,
          2.411067,
          null,
          1.315822,
          1.154756,
          null,
          -1.629548,
          -1.746782,
          null,
          -1.629548,
          -2.537891,
          null,
          -1.629548,
          -1.315822,
          null,
          -1.629548,
          -0.832329,
          null,
          -2.411063,
          -1.315822,
          null,
          -2.411063,
          -2.528296,
          null,
          -2.411063,
          -2.182705,
          null,
          -2.411063,
          -3.319404,
          null,
          -1.746782,
          -1.629548,
          null,
          -2.537891,
          -1.629548,
          null,
          -0.832329,
          -1.629548,
          null,
          -2.528296,
          -2.411063,
          null,
          -2.182705,
          -2.411063,
          null,
          -3.319404,
          -2.411063,
          null,
          2.411067,
          2.528302,
          null,
          2.411067,
          1.315822,
          null,
          2.411067,
          2.182712,
          null,
          2.411067,
          3.319408,
          null,
          1.154756,
          0.926396,
          null,
          1.154756,
          0.357536,
          null,
          1.154756,
          2.063098,
          null,
          1.154756,
          1.315822,
          null,
          2.182712,
          2.411067,
          null,
          3.319408,
          2.411067,
          null,
          2.528302,
          2.411067,
          null,
          0.926396,
          1.154756,
          null,
          0.357536,
          1.154756,
          null,
          2.063098,
          1.154756,
          null,
          2.715106,
          2.08,
          null,
          2.665511,
          2.08,
          null,
          -0.099344,
          0,
          null,
          0.099344,
          0,
          null,
          -2.715106,
          -2.08,
          null,
          -2.665511,
          -2.08,
          null,
          -0.76601,
          0,
          null,
          0.76601,
          0,
          null,
          0.771086,
          0,
          null,
          -0.771086,
          0,
          null
         ],
         "y": [
          0,
          0,
          null,
          0,
          2.1,
          null,
          0,
          0,
          null,
          0,
          -2.08,
          null,
          0,
          0,
          null,
          0,
          0,
          null,
          2.1,
          0,
          null,
          2.1,
          2.875,
          null,
          2.1,
          2.875,
          null,
          0,
          0,
          null,
          0,
          -0.07255,
          null,
          0,
          0.07255,
          null,
          -2.08,
          0,
          null,
          -2.08,
          -2.715106,
          null,
          -2.08,
          -2.665511,
          null,
          0,
          0,
          null,
          0,
          -0.07255,
          null,
          0,
          0.07255,
          null,
          0,
          0,
          null,
          0,
          -0.099344,
          null,
          0,
          0.099344,
          null,
          0,
          0,
          null,
          0,
          -0.045454,
          null,
          0,
          0.045454,
          null,
          2.875,
          2.1,
          null,
          2.875,
          3.720125,
          null,
          2.875,
          1.919746,
          null,
          2.875,
          2.1,
          null,
          2.875,
          1.919751,
          null,
          2.875,
          3.720123,
          null,
          3.720125,
          3.104968,
          null,
          3.720125,
          4.255123,
          null,
          3.720125,
          2.875,
          null,
          3.720125,
          4.415444,
          null,
          1.919746,
          2.875,
          null,
          1.919746,
          1.304585,
          null,
          1.919746,
          1.304587,
          null,
          1.919746,
          2.454746,
          null,
          3.104968,
          3.720125,
          null,
          4.255123,
          3.720125,
          null,
          4.415444,
          3.720125,
          null,
          1.304585,
          1.919746,
          null,
          1.304587,
          1.919746,
          null,
          2.454746,
          1.919746,
          null,
          1.919751,
          1.304596,
          null,
          1.919751,
          2.875,
          null,
          1.919751,
          1.30459,
          null,
          1.919751,
          2.454751,
          null,
          3.720123,
          3.104964,
          null,
          3.720123,
          4.41544,
          null,
          3.720123,
          4.255123,
          null,
          3.720123,
          2.875,
          null,
          1.30459,
          1.919751,
          null,
          2.454751,
          1.919751,
          null,
          1.304596,
          1.919751,
          null,
          3.104964,
          3.720123,
          null,
          4.41544,
          3.720123,
          null,
          4.255123,
          3.720123,
          null,
          -0.07255,
          0,
          null,
          0.07255,
          0,
          null,
          -2.715106,
          -2.08,
          null,
          -2.665511,
          -2.08,
          null,
          -0.07255,
          0,
          null,
          0.07255,
          0,
          null,
          -0.099344,
          0,
          null,
          0.099344,
          0,
          null,
          -0.045454,
          0,
          null,
          0.045454,
          0,
          null
         ],
         "z": [
          0,
          -2.08,
          null,
          0,
          0,
          null,
          0,
          0,
          null,
          0,
          0,
          null,
          0,
          0,
          null,
          0,
          2.08,
          null,
          0,
          0,
          null,
          0,
          0.265496,
          null,
          0,
          -0.265496,
          null,
          0,
          0,
          null,
          0,
          0.76901,
          null,
          0,
          -0.76901,
          null,
          0,
          0,
          null,
          0,
          0.76601,
          null,
          0,
          -0.76601,
          null,
          0,
          0,
          null,
          0,
          -0.76901,
          null,
          0,
          0.76901,
          null,
          2.08,
          0,
          null,
          2.08,
          2.715106,
          null,
          2.08,
          2.665511,
          null,
          -2.08,
          0,
          null,
          -2.08,
          -2.715106,
          null,
          -2.08,
          -2.665511,
          null,
          0.265496,
          0,
          null,
          0.265496,
          -0.895642,
          null,
          0.265496,
          0.486484,
          null,
          -0.265496,
          0,
          null,
          -0.265496,
          -0.486485,
          null,
          -0.265496,
          -1.457438,
          null,
          -0.895642,
          -1.763247,
          null,
          -0.895642,
          -0.712365,
          null,
          -0.895642,
          0.265496,
          null,
          -0.895642,
          -1.056493,
          null,
          0.486484,
          0.265496,
          null,
          0.486484,
          -0.381118,
          null,
          0.486484,
          1.331666,
          null,
          0.486484,
          0.669762,
          null,
          -1.763247,
          -0.895642,
          null,
          -0.712365,
          -0.895642,
          null,
          -1.056493,
          -0.895642,
          null,
          -0.381118,
          0.486484,
          null,
          1.331666,
          0.486484,
          null,
          0.669762,
          0.486484,
          null,
          -0.486485,
          0.381121,
          null,
          -0.486485,
          -0.265496,
          null,
          -0.486485,
          -1.331666,
          null,
          -0.486485,
          -0.669766,
          null,
          -1.457438,
          -2.302619,
          null,
          -1.457438,
          -1.296581,
          null,
          -1.457438,
          -1.640715,
          null,
          -1.457438,
          -0.265496,
          null,
          -1.331666,
          -0.486485,
          null,
          -0.669766,
          -0.486485,
          null,
          0.381121,
          -0.486485,
          null,
          -2.302619,
          -1.457438,
          null,
          -1.296581,
          -1.457438,
          null,
          -1.640715,
          -1.457438,
          null,
          0.76901,
          0,
          null,
          -0.76901,
          0,
          null,
          0.76601,
          0,
          null,
          -0.76601,
          0,
          null,
          -0.76901,
          0,
          null,
          0.76901,
          0,
          null,
          2.715106,
          2.08,
          null,
          2.665511,
          2.08,
          null,
          -2.715106,
          -2.08,
          null,
          -2.665511,
          -2.08,
          null
         ]
        }
       ],
       "layout": {
        "margin": {
         "b": 0,
         "l": 0,
         "r": 0,
         "t": 0
        },
        "scene": {
         "annotations": [
          {
           "showarrow": false,
           "text": "Fe",
           "x": 0,
           "y": 0,
           "yshift": 15,
           "z": 0
          },
          {
           "showarrow": false,
           "text": "B",
           "x": 0,
           "y": 2.1,
           "yshift": 15,
           "z": 0
          },
          {
           "showarrow": false,
           "text": "N",
           "x": -1.315822,
           "y": 2.875,
           "yshift": 15,
           "z": 0.265496
          },
          {
           "showarrow": false,
           "text": "C",
           "x": -1.629548,
           "y": 3.720125,
           "yshift": 15,
           "z": -0.895642
          },
          {
           "showarrow": false,
           "text": "C",
           "x": -2.411063,
           "y": 1.919746,
           "yshift": 15,
           "z": 0.486484
          },
          {
           "showarrow": false,
           "text": "N",
           "x": 1.315822,
           "y": 2.875,
           "yshift": 15,
           "z": -0.265496
          },
          {
           "showarrow": false,
           "text": "C",
           "x": 2.411067,
           "y": 1.919751,
           "yshift": 15,
           "z": -0.486485
          },
          {
           "showarrow": false,
           "text": "C",
           "x": 1.154756,
           "y": 3.720123,
           "yshift": 15,
           "z": -1.457438
          },
          {
           "showarrow": false,
           "text": "H",
           "x": -1.746782,
           "y": 3.104968,
           "yshift": 15,
           "z": -1.763247
          },
          {
           "showarrow": false,
           "text": "H",
           "x": -2.537891,
           "y": 4.255123,
           "yshift": 15,
           "z": -0.712365
          },
          {
           "showarrow": false,
           "text": "H",
           "x": -0.832329,
           "y": 4.415444,
           "yshift": 15,
           "z": -1.056493
          },
          {
           "showarrow": false,
           "text": "H",
           "x": -2.528296,
           "y": 1.304585,
           "yshift": 15,
           "z": -0.381118
          },
          {
           "showarrow": false,
           "text": "H",
           "x": -2.182705,
           "y": 1.304587,
           "yshift": 15,
           "z": 1.331666
          },
          {
           "showarrow": false,
           "text": "H",
           "x": -3.319404,
           "y": 2.454746,
           "yshift": 15,
           "z": 0.669762
          },
          {
           "showarrow": false,
           "text": "H",
           "x": 2.182712,
           "y": 1.30459,
           "yshift": 15,
           "z": -1.331666
          },
          {
           "showarrow": false,
           "text": "H",
           "x": 3.319408,
           "y": 2.454751,
           "yshift": 15,
           "z": -0.669766
          },
          {
           "showarrow": false,
           "text": "H",
           "x": 2.528302,
           "y": 1.304596,
           "yshift": 15,
           "z": 0.381121
          },
          {
           "showarrow": false,
           "text": "H",
           "x": 0.926396,
           "y": 3.104964,
           "yshift": 15,
           "z": -2.302619
          },
          {
           "showarrow": false,
           "text": "H",
           "x": 0.357536,
           "y": 4.41544,
           "yshift": 15,
           "z": -1.296581
          },
          {
           "showarrow": false,
           "text": "H",
           "x": 2.063098,
           "y": 4.255123,
           "yshift": 15,
           "z": -1.640715
          },
          {
           "showarrow": false,
           "text": "O",
           "x": 2.08,
           "y": 0,
           "yshift": 15,
           "z": 0
          },
          {
           "showarrow": false,
           "text": "H",
           "x": 2.715106,
           "y": -0.07255,
           "yshift": 15,
           "z": 0.76901
          },
          {
           "showarrow": false,
           "text": "H",
           "x": 2.665511,
           "y": 0.07255,
           "yshift": 15,
           "z": -0.76901
          },
          {
           "showarrow": false,
           "text": "O",
           "x": 0,
           "y": -2.08,
           "yshift": 15,
           "z": 0
          },
          {
           "showarrow": false,
           "text": "H",
           "x": -0.099344,
           "y": -2.715106,
           "yshift": 15,
           "z": 0.76601
          },
          {
           "showarrow": false,
           "text": "H",
           "x": 0.099344,
           "y": -2.665511,
           "yshift": 15,
           "z": -0.76601
          },
          {
           "showarrow": false,
           "text": "O",
           "x": -2.08,
           "y": 0,
           "yshift": 15,
           "z": 0
          },
          {
           "showarrow": false,
           "text": "H",
           "x": -2.715106,
           "y": -0.07255,
           "yshift": 15,
           "z": -0.76901
          },
          {
           "showarrow": false,
           "text": "H",
           "x": -2.665511,
           "y": 0.07255,
           "yshift": 15,
           "z": 0.76901
          },
          {
           "showarrow": false,
           "text": "O",
           "x": 0,
           "y": 0,
           "yshift": 15,
           "z": 2.08
          },
          {
           "showarrow": false,
           "text": "H",
           "x": -0.76601,
           "y": -0.099344,
           "yshift": 15,
           "z": 2.715106
          },
          {
           "showarrow": false,
           "text": "H",
           "x": 0.76601,
           "y": 0.099344,
           "yshift": 15,
           "z": 2.665511
          },
          {
           "showarrow": false,
           "text": "O",
           "x": 0,
           "y": 0,
           "yshift": 15,
           "z": -2.08
          },
          {
           "showarrow": false,
           "text": "H",
           "x": 0.771086,
           "y": -0.045454,
           "yshift": 15,
           "z": -2.715106
          },
          {
           "showarrow": false,
           "text": "H",
           "x": -0.771086,
           "y": 0.045454,
           "yshift": 15,
           "z": -2.665511
          }
         ],
         "xaxis": {
          "showbackground": false,
          "showgrid": false,
          "showticklabels": false,
          "title": {
           "font": {
            "color": "white"
           }
          },
          "zeroline": false
         },
         "yaxis": {
          "showbackground": false,
          "showgrid": false,
          "showticklabels": false,
          "title": {
           "font": {
            "color": "white"
           }
          },
          "zeroline": false
         },
         "zaxis": {
          "showbackground": false,
          "showgrid": false,
          "showticklabels": false,
          "title": {
           "font": {
            "color": "white"
           }
          },
          "zeroline": false
         }
        },
        "showlegend": false,
        "template": {
         "data": {
          "bar": [
           {
            "error_x": {
             "color": "#2a3f5f"
            },
            "error_y": {
             "color": "#2a3f5f"
            },
            "marker": {
             "line": {
              "color": "#E5ECF6",
              "width": 0.5
             },
             "pattern": {
              "fillmode": "overlay",
              "size": 10,
              "solidity": 0.2
             }
            },
            "type": "bar"
           }
          ],
          "barpolar": [
           {
            "marker": {
             "line": {
              "color": "#E5ECF6",
              "width": 0.5
             },
             "pattern": {
              "fillmode": "overlay",
              "size": 10,
              "solidity": 0.2
             }
            },
            "type": "barpolar"
           }
          ],
          "carpet": [
           {
            "aaxis": {
             "endlinecolor": "#2a3f5f",
             "gridcolor": "white",
             "linecolor": "white",
             "minorgridcolor": "white",
             "startlinecolor": "#2a3f5f"
            },
            "baxis": {
             "endlinecolor": "#2a3f5f",
             "gridcolor": "white",
             "linecolor": "white",
             "minorgridcolor": "white",
             "startlinecolor": "#2a3f5f"
            },
            "type": "carpet"
           }
          ],
          "choropleth": [
           {
            "colorbar": {
             "outlinewidth": 0,
             "ticks": ""
            },
            "type": "choropleth"
           }
          ],
          "contour": [
           {
            "colorbar": {
             "outlinewidth": 0,
             "ticks": ""
            },
            "colorscale": [
             [
              0,
              "#0d0887"
             ],
             [
              0.1111111111111111,
              "#46039f"
             ],
             [
              0.2222222222222222,
              "#7201a8"
             ],
             [
              0.3333333333333333,
              "#9c179e"
             ],
             [
              0.4444444444444444,
              "#bd3786"
             ],
             [
              0.5555555555555556,
              "#d8576b"
             ],
             [
              0.6666666666666666,
              "#ed7953"
             ],
             [
              0.7777777777777778,
              "#fb9f3a"
             ],
             [
              0.8888888888888888,
              "#fdca26"
             ],
             [
              1,
              "#f0f921"
             ]
            ],
            "type": "contour"
           }
          ],
          "contourcarpet": [
           {
            "colorbar": {
             "outlinewidth": 0,
             "ticks": ""
            },
            "type": "contourcarpet"
           }
          ],
          "heatmap": [
           {
            "colorbar": {
             "outlinewidth": 0,
             "ticks": ""
            },
            "colorscale": [
             [
              0,
              "#0d0887"
             ],
             [
              0.1111111111111111,
              "#46039f"
             ],
             [
              0.2222222222222222,
              "#7201a8"
             ],
             [
              0.3333333333333333,
              "#9c179e"
             ],
             [
              0.4444444444444444,
              "#bd3786"
             ],
             [
              0.5555555555555556,
              "#d8576b"
             ],
             [
              0.6666666666666666,
              "#ed7953"
             ],
             [
              0.7777777777777778,
              "#fb9f3a"
             ],
             [
              0.8888888888888888,
              "#fdca26"
             ],
             [
              1,
              "#f0f921"
             ]
            ],
            "type": "heatmap"
           }
          ],
          "heatmapgl": [
           {
            "colorbar": {
             "outlinewidth": 0,
             "ticks": ""
            },
            "colorscale": [
             [
              0,
              "#0d0887"
             ],
             [
              0.1111111111111111,
              "#46039f"
             ],
             [
              0.2222222222222222,
              "#7201a8"
             ],
             [
              0.3333333333333333,
              "#9c179e"
             ],
             [
              0.4444444444444444,
              "#bd3786"
             ],
             [
              0.5555555555555556,
              "#d8576b"
             ],
             [
              0.6666666666666666,
              "#ed7953"
             ],
             [
              0.7777777777777778,
              "#fb9f3a"
             ],
             [
              0.8888888888888888,
              "#fdca26"
             ],
             [
              1,
              "#f0f921"
             ]
            ],
            "type": "heatmapgl"
           }
          ],
          "histogram": [
           {
            "marker": {
             "pattern": {
              "fillmode": "overlay",
              "size": 10,
              "solidity": 0.2
             }
            },
            "type": "histogram"
           }
          ],
          "histogram2d": [
           {
            "colorbar": {
             "outlinewidth": 0,
             "ticks": ""
            },
            "colorscale": [
             [
              0,
              "#0d0887"
             ],
             [
              0.1111111111111111,
              "#46039f"
             ],
             [
              0.2222222222222222,
              "#7201a8"
             ],
             [
              0.3333333333333333,
              "#9c179e"
             ],
             [
              0.4444444444444444,
              "#bd3786"
             ],
             [
              0.5555555555555556,
              "#d8576b"
             ],
             [
              0.6666666666666666,
              "#ed7953"
             ],
             [
              0.7777777777777778,
              "#fb9f3a"
             ],
             [
              0.8888888888888888,
              "#fdca26"
             ],
             [
              1,
              "#f0f921"
             ]
            ],
            "type": "histogram2d"
           }
          ],
          "histogram2dcontour": [
           {
            "colorbar": {
             "outlinewidth": 0,
             "ticks": ""
            },
            "colorscale": [
             [
              0,
              "#0d0887"
             ],
             [
              0.1111111111111111,
              "#46039f"
             ],
             [
              0.2222222222222222,
              "#7201a8"
             ],
             [
              0.3333333333333333,
              "#9c179e"
             ],
             [
              0.4444444444444444,
              "#bd3786"
             ],
             [
              0.5555555555555556,
              "#d8576b"
             ],
             [
              0.6666666666666666,
              "#ed7953"
             ],
             [
              0.7777777777777778,
              "#fb9f3a"
             ],
             [
              0.8888888888888888,
              "#fdca26"
             ],
             [
              1,
              "#f0f921"
             ]
            ],
            "type": "histogram2dcontour"
           }
          ],
          "mesh3d": [
           {
            "colorbar": {
             "outlinewidth": 0,
             "ticks": ""
            },
            "type": "mesh3d"
           }
          ],
          "parcoords": [
           {
            "line": {
             "colorbar": {
              "outlinewidth": 0,
              "ticks": ""
             }
            },
            "type": "parcoords"
           }
          ],
          "pie": [
           {
            "automargin": true,
            "type": "pie"
           }
          ],
          "scatter": [
           {
            "fillpattern": {
             "fillmode": "overlay",
             "size": 10,
             "solidity": 0.2
            },
            "type": "scatter"
           }
          ],
          "scatter3d": [
           {
            "line": {
             "colorbar": {
              "outlinewidth": 0,
              "ticks": ""
             }
            },
            "marker": {
             "colorbar": {
              "outlinewidth": 0,
              "ticks": ""
             }
            },
            "type": "scatter3d"
           }
          ],
          "scattercarpet": [
           {
            "marker": {
             "colorbar": {
              "outlinewidth": 0,
              "ticks": ""
             }
            },
            "type": "scattercarpet"
           }
          ],
          "scattergeo": [
           {
            "marker": {
             "colorbar": {
              "outlinewidth": 0,
              "ticks": ""
             }
            },
            "type": "scattergeo"
           }
          ],
          "scattergl": [
           {
            "marker": {
             "colorbar": {
              "outlinewidth": 0,
              "ticks": ""
             }
            },
            "type": "scattergl"
           }
          ],
          "scattermapbox": [
           {
            "marker": {
             "colorbar": {
              "outlinewidth": 0,
              "ticks": ""
             }
            },
            "type": "scattermapbox"
           }
          ],
          "scatterpolar": [
           {
            "marker": {
             "colorbar": {
              "outlinewidth": 0,
              "ticks": ""
             }
            },
            "type": "scatterpolar"
           }
          ],
          "scatterpolargl": [
           {
            "marker": {
             "colorbar": {
              "outlinewidth": 0,
              "ticks": ""
             }
            },
            "type": "scatterpolargl"
           }
          ],
          "scatterternary": [
           {
            "marker": {
             "colorbar": {
              "outlinewidth": 0,
              "ticks": ""
             }
            },
            "type": "scatterternary"
           }
          ],
          "surface": [
           {
            "colorbar": {
             "outlinewidth": 0,
             "ticks": ""
            },
            "colorscale": [
             [
              0,
              "#0d0887"
             ],
             [
              0.1111111111111111,
              "#46039f"
             ],
             [
              0.2222222222222222,
              "#7201a8"
             ],
             [
              0.3333333333333333,
              "#9c179e"
             ],
             [
              0.4444444444444444,
              "#bd3786"
             ],
             [
              0.5555555555555556,
              "#d8576b"
             ],
             [
              0.6666666666666666,
              "#ed7953"
             ],
             [
              0.7777777777777778,
              "#fb9f3a"
             ],
             [
              0.8888888888888888,
              "#fdca26"
             ],
             [
              1,
              "#f0f921"
             ]
            ],
            "type": "surface"
           }
          ],
          "table": [
           {
            "cells": {
             "fill": {
              "color": "#EBF0F8"
             },
             "line": {
              "color": "white"
             }
            },
            "header": {
             "fill": {
              "color": "#C8D4E3"
             },
             "line": {
              "color": "white"
             }
            },
            "type": "table"
           }
          ]
         },
         "layout": {
          "annotationdefaults": {
           "arrowcolor": "#2a3f5f",
           "arrowhead": 0,
           "arrowwidth": 1
          },
          "autotypenumbers": "strict",
          "coloraxis": {
           "colorbar": {
            "outlinewidth": 0,
            "ticks": ""
           }
          },
          "colorscale": {
           "diverging": [
            [
             0,
             "#8e0152"
            ],
            [
             0.1,
             "#c51b7d"
            ],
            [
             0.2,
             "#de77ae"
            ],
            [
             0.3,
             "#f1b6da"
            ],
            [
             0.4,
             "#fde0ef"
            ],
            [
             0.5,
             "#f7f7f7"
            ],
            [
             0.6,
             "#e6f5d0"
            ],
            [
             0.7,
             "#b8e186"
            ],
            [
             0.8,
             "#7fbc41"
            ],
            [
             0.9,
             "#4d9221"
            ],
            [
             1,
             "#276419"
            ]
           ],
           "sequential": [
            [
             0,
             "#0d0887"
            ],
            [
             0.1111111111111111,
             "#46039f"
            ],
            [
             0.2222222222222222,
             "#7201a8"
            ],
            [
             0.3333333333333333,
             "#9c179e"
            ],
            [
             0.4444444444444444,
             "#bd3786"
            ],
            [
             0.5555555555555556,
             "#d8576b"
            ],
            [
             0.6666666666666666,
             "#ed7953"
            ],
            [
             0.7777777777777778,
             "#fb9f3a"
            ],
            [
             0.8888888888888888,
             "#fdca26"
            ],
            [
             1,
             "#f0f921"
            ]
           ],
           "sequentialminus": [
            [
             0,
             "#0d0887"
            ],
            [
             0.1111111111111111,
             "#46039f"
            ],
            [
             0.2222222222222222,
             "#7201a8"
            ],
            [
             0.3333333333333333,
             "#9c179e"
            ],
            [
             0.4444444444444444,
             "#bd3786"
            ],
            [
             0.5555555555555556,
             "#d8576b"
            ],
            [
             0.6666666666666666,
             "#ed7953"
            ],
            [
             0.7777777777777778,
             "#fb9f3a"
            ],
            [
             0.8888888888888888,
             "#fdca26"
            ],
            [
             1,
             "#f0f921"
            ]
           ]
          },
          "colorway": [
           "#636efa",
           "#EF553B",
           "#00cc96",
           "#ab63fa",
           "#FFA15A",
           "#19d3f3",
           "#FF6692",
           "#B6E880",
           "#FF97FF",
           "#FECB52"
          ],
          "font": {
           "color": "#2a3f5f"
          },
          "geo": {
           "bgcolor": "white",
           "lakecolor": "white",
           "landcolor": "#E5ECF6",
           "showlakes": true,
           "showland": true,
           "subunitcolor": "white"
          },
          "hoverlabel": {
           "align": "left"
          },
          "hovermode": "closest",
          "mapbox": {
           "style": "light"
          },
          "paper_bgcolor": "white",
          "plot_bgcolor": "#E5ECF6",
          "polar": {
           "angularaxis": {
            "gridcolor": "white",
            "linecolor": "white",
            "ticks": ""
           },
           "bgcolor": "#E5ECF6",
           "radialaxis": {
            "gridcolor": "white",
            "linecolor": "white",
            "ticks": ""
           }
          },
          "scene": {
           "xaxis": {
            "backgroundcolor": "#E5ECF6",
            "gridcolor": "white",
            "gridwidth": 2,
            "linecolor": "white",
            "showbackground": true,
            "ticks": "",
            "zerolinecolor": "white"
           },
           "yaxis": {
            "backgroundcolor": "#E5ECF6",
            "gridcolor": "white",
            "gridwidth": 2,
            "linecolor": "white",
            "showbackground": true,
            "ticks": "",
            "zerolinecolor": "white"
           },
           "zaxis": {
            "backgroundcolor": "#E5ECF6",
            "gridcolor": "white",
            "gridwidth": 2,
            "linecolor": "white",
            "showbackground": true,
            "ticks": "",
            "zerolinecolor": "white"
           }
          },
          "shapedefaults": {
           "line": {
            "color": "#2a3f5f"
           }
          },
          "ternary": {
           "aaxis": {
            "gridcolor": "white",
            "linecolor": "white",
            "ticks": ""
           },
           "baxis": {
            "gridcolor": "white",
            "linecolor": "white",
            "ticks": ""
           },
           "bgcolor": "#E5ECF6",
           "caxis": {
            "gridcolor": "white",
            "linecolor": "white",
            "ticks": ""
           }
          },
          "title": {
           "x": 0.05
          },
          "xaxis": {
           "automargin": true,
           "gridcolor": "white",
           "linecolor": "white",
           "ticks": "",
           "title": {
            "standoff": 15
           },
           "zerolinecolor": "white",
           "zerolinewidth": 2
          },
          "yaxis": {
           "automargin": true,
           "gridcolor": "white",
           "linecolor": "white",
           "ticks": "",
           "title": {
            "standoff": 15
           },
           "zerolinecolor": "white",
           "zerolinewidth": 2
          }
         }
        },
        "updatemenus": [
         {
          "buttons": [
           {
            "args": [
             {
              "scene.annotations": [
               {
                "showarrow": false,
                "text": "Fe",
                "x": 0,
                "y": 0,
                "yshift": 15,
                "z": 0
               },
               {
                "showarrow": false,
                "text": "B",
                "x": 0,
                "y": 2.1,
                "yshift": 15,
                "z": 0
               },
               {
                "showarrow": false,
                "text": "N",
                "x": -1.315822,
                "y": 2.875,
                "yshift": 15,
                "z": 0.265496
               },
               {
                "showarrow": false,
                "text": "C",
                "x": -1.629548,
                "y": 3.720125,
                "yshift": 15,
                "z": -0.895642
               },
               {
                "showarrow": false,
                "text": "C",
                "x": -2.411063,
                "y": 1.919746,
                "yshift": 15,
                "z": 0.486484
               },
               {
                "showarrow": false,
                "text": "N",
                "x": 1.315822,
                "y": 2.875,
                "yshift": 15,
                "z": -0.265496
               },
               {
                "showarrow": false,
                "text": "C",
                "x": 2.411067,
                "y": 1.919751,
                "yshift": 15,
                "z": -0.486485
               },
               {
                "showarrow": false,
                "text": "C",
                "x": 1.154756,
                "y": 3.720123,
                "yshift": 15,
                "z": -1.457438
               },
               {
                "showarrow": false,
                "text": "H",
                "x": -1.746782,
                "y": 3.104968,
                "yshift": 15,
                "z": -1.763247
               },
               {
                "showarrow": false,
                "text": "H",
                "x": -2.537891,
                "y": 4.255123,
                "yshift": 15,
                "z": -0.712365
               },
               {
                "showarrow": false,
                "text": "H",
                "x": -0.832329,
                "y": 4.415444,
                "yshift": 15,
                "z": -1.056493
               },
               {
                "showarrow": false,
                "text": "H",
                "x": -2.528296,
                "y": 1.304585,
                "yshift": 15,
                "z": -0.381118
               },
               {
                "showarrow": false,
                "text": "H",
                "x": -2.182705,
                "y": 1.304587,
                "yshift": 15,
                "z": 1.331666
               },
               {
                "showarrow": false,
                "text": "H",
                "x": -3.319404,
                "y": 2.454746,
                "yshift": 15,
                "z": 0.669762
               },
               {
                "showarrow": false,
                "text": "H",
                "x": 2.182712,
                "y": 1.30459,
                "yshift": 15,
                "z": -1.331666
               },
               {
                "showarrow": false,
                "text": "H",
                "x": 3.319408,
                "y": 2.454751,
                "yshift": 15,
                "z": -0.669766
               },
               {
                "showarrow": false,
                "text": "H",
                "x": 2.528302,
                "y": 1.304596,
                "yshift": 15,
                "z": 0.381121
               },
               {
                "showarrow": false,
                "text": "H",
                "x": 0.926396,
                "y": 3.104964,
                "yshift": 15,
                "z": -2.302619
               },
               {
                "showarrow": false,
                "text": "H",
                "x": 0.357536,
                "y": 4.41544,
                "yshift": 15,
                "z": -1.296581
               },
               {
                "showarrow": false,
                "text": "H",
                "x": 2.063098,
                "y": 4.255123,
                "yshift": 15,
                "z": -1.640715
               },
               {
                "showarrow": false,
                "text": "O",
                "x": 2.08,
                "y": 0,
                "yshift": 15,
                "z": 0
               },
               {
                "showarrow": false,
                "text": "H",
                "x": 2.715106,
                "y": -0.07255,
                "yshift": 15,
                "z": 0.76901
               },
               {
                "showarrow": false,
                "text": "H",
                "x": 2.665511,
                "y": 0.07255,
                "yshift": 15,
                "z": -0.76901
               },
               {
                "showarrow": false,
                "text": "O",
                "x": 0,
                "y": -2.08,
                "yshift": 15,
                "z": 0
               },
               {
                "showarrow": false,
                "text": "H",
                "x": -0.099344,
                "y": -2.715106,
                "yshift": 15,
                "z": 0.76601
               },
               {
                "showarrow": false,
                "text": "H",
                "x": 0.099344,
                "y": -2.665511,
                "yshift": 15,
                "z": -0.76601
               },
               {
                "showarrow": false,
                "text": "O",
                "x": -2.08,
                "y": 0,
                "yshift": 15,
                "z": 0
               },
               {
                "showarrow": false,
                "text": "H",
                "x": -2.715106,
                "y": -0.07255,
                "yshift": 15,
                "z": -0.76901
               },
               {
                "showarrow": false,
                "text": "H",
                "x": -2.665511,
                "y": 0.07255,
                "yshift": 15,
                "z": 0.76901
               },
               {
                "showarrow": false,
                "text": "O",
                "x": 0,
                "y": 0,
                "yshift": 15,
                "z": 2.08
               },
               {
                "showarrow": false,
                "text": "H",
                "x": -0.76601,
                "y": -0.099344,
                "yshift": 15,
                "z": 2.715106
               },
               {
                "showarrow": false,
                "text": "H",
                "x": 0.76601,
                "y": 0.099344,
                "yshift": 15,
                "z": 2.665511
               },
               {
                "showarrow": false,
                "text": "O",
                "x": 0,
                "y": 0,
                "yshift": 15,
                "z": -2.08
               },
               {
                "showarrow": false,
                "text": "H",
                "x": 0.771086,
                "y": -0.045454,
                "yshift": 15,
                "z": -2.715106
               },
               {
                "showarrow": false,
                "text": "H",
                "x": -0.771086,
                "y": 0.045454,
                "yshift": 15,
                "z": -2.665511
               }
              ]
             }
            ],
            "label": " Elements",
            "method": "relayout"
           },
           {
            "args": [
             {
              "scene.annotations": [
               {
                "showarrow": false,
                "text": "Fe",
                "x": 0,
                "y": 0,
                "yshift": 15,
                "z": 0
               },
               {
                "showarrow": false,
                "text": "B",
                "x": 0,
                "y": 2.1,
                "yshift": 15,
                "z": 0
               },
               {
                "showarrow": false,
                "text": "N",
                "x": -1.315822,
                "y": 2.875,
                "yshift": 15,
                "z": 0.265496
               },
               {
                "showarrow": false,
                "text": "C",
                "x": -1.629548,
                "y": 3.720125,
                "yshift": 15,
                "z": -0.895642
               },
               {
                "showarrow": false,
                "text": "C",
                "x": -2.411063,
                "y": 1.919746,
                "yshift": 15,
                "z": 0.486484
               },
               {
                "showarrow": false,
                "text": "N",
                "x": 1.315822,
                "y": 2.875,
                "yshift": 15,
                "z": -0.265496
               },
               {
                "showarrow": false,
                "text": "C",
                "x": 2.411067,
                "y": 1.919751,
                "yshift": 15,
                "z": -0.486485
               },
               {
                "showarrow": false,
                "text": "C",
                "x": 1.154756,
                "y": 3.720123,
                "yshift": 15,
                "z": -1.457438
               },
               {
                "showarrow": false,
                "text": "H",
                "x": -1.746782,
                "y": 3.104968,
                "yshift": 15,
                "z": -1.763247
               },
               {
                "showarrow": false,
                "text": "H",
                "x": -2.537891,
                "y": 4.255123,
                "yshift": 15,
                "z": -0.712365
               },
               {
                "showarrow": false,
                "text": "H",
                "x": -0.832329,
                "y": 4.415444,
                "yshift": 15,
                "z": -1.056493
               },
               {
                "showarrow": false,
                "text": "H",
                "x": -2.528296,
                "y": 1.304585,
                "yshift": 15,
                "z": -0.381118
               },
               {
                "showarrow": false,
                "text": "H",
                "x": -2.182705,
                "y": 1.304587,
                "yshift": 15,
                "z": 1.331666
               },
               {
                "showarrow": false,
                "text": "H",
                "x": -3.319404,
                "y": 2.454746,
                "yshift": 15,
                "z": 0.669762
               },
               {
                "showarrow": false,
                "text": "H",
                "x": 2.182712,
                "y": 1.30459,
                "yshift": 15,
                "z": -1.331666
               },
               {
                "showarrow": false,
                "text": "H",
                "x": 3.319408,
                "y": 2.454751,
                "yshift": 15,
                "z": -0.669766
               },
               {
                "showarrow": false,
                "text": "H",
                "x": 2.528302,
                "y": 1.304596,
                "yshift": 15,
                "z": 0.381121
               },
               {
                "showarrow": false,
                "text": "H",
                "x": 0.926396,
                "y": 3.104964,
                "yshift": 15,
                "z": -2.302619
               },
               {
                "showarrow": false,
                "text": "H",
                "x": 0.357536,
                "y": 4.41544,
                "yshift": 15,
                "z": -1.296581
               },
               {
                "showarrow": false,
                "text": "H",
                "x": 2.063098,
                "y": 4.255123,
                "yshift": 15,
                "z": -1.640715
               },
               {
                "showarrow": false,
                "text": "O",
                "x": 2.08,
                "y": 0,
                "yshift": 15,
                "z": 0
               },
               {
                "showarrow": false,
                "text": "H",
                "x": 2.715106,
                "y": -0.07255,
                "yshift": 15,
                "z": 0.76901
               },
               {
                "showarrow": false,
                "text": "H",
                "x": 2.665511,
                "y": 0.07255,
                "yshift": 15,
                "z": -0.76901
               },
               {
                "showarrow": false,
                "text": "O",
                "x": 0,
                "y": -2.08,
                "yshift": 15,
                "z": 0
               },
               {
                "showarrow": false,
                "text": "H",
                "x": -0.099344,
                "y": -2.715106,
                "yshift": 15,
                "z": 0.76601
               },
               {
                "showarrow": false,
                "text": "H",
                "x": 0.099344,
                "y": -2.665511,
                "yshift": 15,
                "z": -0.76601
               },
               {
                "showarrow": false,
                "text": "O",
                "x": -2.08,
                "y": 0,
                "yshift": 15,
                "z": 0
               },
               {
                "showarrow": false,
                "text": "H",
                "x": -2.715106,
                "y": -0.07255,
                "yshift": 15,
                "z": -0.76901
               },
               {
                "showarrow": false,
                "text": "H",
                "x": -2.665511,
                "y": 0.07255,
                "yshift": 15,
                "z": 0.76901
               },
               {
                "showarrow": false,
                "text": "O",
                "x": 0,
                "y": 0,
                "yshift": 15,
                "z": 2.08
               },
               {
                "showarrow": false,
                "text": "H",
                "x": -0.76601,
                "y": -0.099344,
                "yshift": 15,
                "z": 2.715106
               },
               {
                "showarrow": false,
                "text": "H",
                "x": 0.76601,
                "y": 0.099344,
                "yshift": 15,
                "z": 2.665511
               },
               {
                "showarrow": false,
                "text": "O",
                "x": 0,
                "y": 0,
                "yshift": 15,
                "z": -2.08
               },
               {
                "showarrow": false,
                "text": "H",
                "x": 0.771086,
                "y": -0.045454,
                "yshift": 15,
                "z": -2.715106
               },
               {
                "showarrow": false,
                "text": "H",
                "x": -0.771086,
                "y": 0.045454,
                "yshift": 15,
                "z": -2.665511
               },
               {
                "font": {
                 "color": "steelblue"
                },
                "showarrow": false,
                "text": 2.82,
                "x": 0,
                "y": 1.05,
                "yshift": 15,
                "z": 0
               },
               {
                "font": {
                 "color": "steelblue"
                },
                "showarrow": false,
                "text": 2.63,
                "x": 1.04,
                "y": 0,
                "yshift": 15,
                "z": 0
               },
               {
                "font": {
                 "color": "steelblue"
                },
                "showarrow": false,
                "text": 2.63,
                "x": 0,
                "y": -1.04,
                "yshift": 15,
                "z": 0
               },
               {
                "font": {
                 "color": "steelblue"
                },
                "showarrow": false,
                "text": 2.63,
                "x": -1.04,
                "y": 0,
                "yshift": 15,
                "z": 0
               },
               {
                "font": {
                 "color": "steelblue"
                },
                "showarrow": false,
                "text": 2.63,
                "x": 0,
                "y": 0,
                "yshift": 15,
                "z": 1.04
               },
               {
                "font": {
                 "color": "steelblue"
                },
                "showarrow": false,
                "text": 2.63,
                "x": 0,
                "y": 0,
                "yshift": 15,
                "z": -1.04
               },
               {
                "font": {
                 "color": "steelblue"
                },
                "showarrow": false,
                "text": 1.96,
                "x": -0.657911,
                "y": 2.4875,
                "yshift": 15,
                "z": 0.132748
               },
               {
                "font": {
                 "color": "steelblue"
                },
                "showarrow": false,
                "text": 1.96,
                "x": 0.657911,
                "y": 2.4875,
                "yshift": 15,
                "z": -0.132748
               },
               {
                "font": {
                 "color": "steelblue"
                },
                "showarrow": false,
                "text": 1.77,
                "x": -1.472685,
                "y": 3.2975624999999997,
                "yshift": 15,
                "z": -0.31507300000000005
               },
               {
                "font": {
                 "color": "steelblue"
                },
                "showarrow": false,
                "text": 1.77,
                "x": -1.8634425000000001,
                "y": 2.397373,
                "yshift": 15,
                "z": 0.37599000000000005
               },
               {
                "font": {
                 "color": "steelblue"
                },
                "showarrow": false,
                "text": 1.18,
                "x": -1.6881650000000001,
                "y": 3.4125465,
                "yshift": 15,
                "z": -1.3294445000000001
               },
               {
                "font": {
                 "color": "steelblue"
                },
                "showarrow": false,
                "text": 1.18,
                "x": -2.0837195,
                "y": 3.9876240000000003,
                "yshift": 15,
                "z": -0.8040035000000001
               },
               {
                "font": {
                 "color": "steelblue"
                },
                "showarrow": false,
                "text": 1.18,
                "x": -1.2309385,
                "y": 4.0677845,
                "yshift": 15,
                "z": -0.9760675
               },
               {
                "font": {
                 "color": "steelblue"
                },
                "showarrow": false,
                "text": 1.18,
                "x": -2.4696795,
                "y": 1.6121655000000001,
                "yshift": 15,
                "z": 0.05268300000000001
               },
               {
                "font": {
                 "color": "steelblue"
                },
                "showarrow": false,
                "text": 1.18,
                "x": -2.296884,
                "y": 1.6121664999999998,
                "yshift": 15,
                "z": 0.9090750000000001
               },
               {
                "font": {
                 "color": "steelblue"
                },
                "showarrow": false,
                "text": 1.18,
                "x": -2.8652335,
                "y": 2.187246,
                "yshift": 15,
                "z": 0.5781229999999999
               },
               {
                "font": {
                 "color": "steelblue"
                },
                "showarrow": false,
                "text": 1.77,
                "x": 1.8634445,
                "y": 2.3973755,
                "yshift": 15,
                "z": -0.3759905
               },
               {
                "font": {
                 "color": "steelblue"
                },
                "showarrow": false,
                "text": 1.77,
                "x": 1.2352889999999999,
                "y": 3.2975615,
                "yshift": 15,
                "z": -0.861467
               },
               {
                "font": {
                 "color": "steelblue"
                },
                "showarrow": false,
                "text": 1.18,
                "x": 2.2968895,
                "y": 1.6121705,
                "yshift": 15,
                "z": -0.9090755
               },
               {
                "font": {
                 "color": "steelblue"
                },
                "showarrow": false,
                "text": 1.18,
                "x": 2.8652375,
                "y": 2.187251,
                "yshift": 15,
                "z": -0.5781255
               },
               {
                "font": {
                 "color": "steelblue"
                },
                "showarrow": false,
                "text": 1.18,
                "x": 2.4696845,
                "y": 1.6121735,
                "yshift": 15,
                "z": -0.05268200000000001
               },
               {
                "font": {
                 "color": "steelblue"
                },
                "showarrow": false,
                "text": 1.18,
                "x": 1.040576,
                "y": 3.4125435,
                "yshift": 15,
                "z": -1.8800284999999999
               },
               {
                "font": {
                 "color": "steelblue"
                },
                "showarrow": false,
                "text": 1.18,
                "x": 0.756146,
                "y": 4.067781500000001,
                "yshift": 15,
                "z": -1.3770095
               },
               {
                "font": {
                 "color": "steelblue"
                },
                "showarrow": false,
                "text": 1.18,
                "x": 1.608927,
                "y": 3.987623,
                "yshift": 15,
                "z": -1.5490765
               },
               {
                "font": {
                 "color": "steelblue"
                },
                "showarrow": false,
                "text": 1.18,
                "x": 2.3975530000000003,
                "y": -0.036275,
                "yshift": 15,
                "z": 0.384505
               },
               {
                "font": {
                 "color": "steelblue"
                },
                "showarrow": false,
                "text": 1.18,
                "x": 2.3727555000000002,
                "y": 0.036275,
                "yshift": 15,
                "z": -0.384505
               },
               {
                "font": {
                 "color": "steelblue"
                },
                "showarrow": false,
                "text": 1.18,
                "x": -0.049672,
                "y": -2.3975530000000003,
                "yshift": 15,
                "z": 0.383005
               },
               {
                "font": {
                 "color": "steelblue"
                },
                "showarrow": false,
                "text": 1.18,
                "x": 0.049672,
                "y": -2.3727555000000002,
                "yshift": 15,
                "z": -0.383005
               },
               {
                "font": {
                 "color": "steelblue"
                },
                "showarrow": false,
                "text": 1.18,
                "x": -2.3975530000000003,
                "y": -0.036275,
                "yshift": 15,
                "z": -0.384505
               },
               {
                "font": {
                 "color": "steelblue"
                },
                "showarrow": false,
                "text": 1.18,
                "x": -2.3727555000000002,
                "y": 0.036275,
                "yshift": 15,
                "z": 0.384505
               },
               {
                "font": {
                 "color": "steelblue"
                },
                "showarrow": false,
                "text": 1.18,
                "x": -0.383005,
                "y": -0.049672,
                "yshift": 15,
                "z": 2.3975530000000003
               },
               {
                "font": {
                 "color": "steelblue"
                },
                "showarrow": false,
                "text": 1.18,
                "x": 0.383005,
                "y": 0.049672,
                "yshift": 15,
                "z": 2.3727555000000002
               },
               {
                "font": {
                 "color": "steelblue"
                },
                "showarrow": false,
                "text": 1.18,
                "x": 0.385543,
                "y": -0.022727,
                "yshift": 15,
                "z": -2.3975530000000003
               },
               {
                "font": {
                 "color": "steelblue"
                },
                "showarrow": false,
                "text": 1.18,
                "x": -0.385543,
                "y": 0.022727,
                "yshift": 15,
                "z": -2.3727555000000002
               }
              ]
             }
            ],
            "label": " Elements & Bond Lengths",
            "method": "relayout"
           },
           {
            "args": [
             {
              "scene.annotations": [
               {
                "showarrow": false,
                "text": 0,
                "x": 0,
                "y": 0,
                "yshift": 15,
                "z": 0
               },
               {
                "showarrow": false,
                "text": 1,
                "x": 0,
                "y": 2.1,
                "yshift": 15,
                "z": 0
               },
               {
                "showarrow": false,
                "text": 2,
                "x": -1.315822,
                "y": 2.875,
                "yshift": 15,
                "z": 0.265496
               },
               {
                "showarrow": false,
                "text": 3,
                "x": -1.629548,
                "y": 3.720125,
                "yshift": 15,
                "z": -0.895642
               },
               {
                "showarrow": false,
                "text": 4,
                "x": -2.411063,
                "y": 1.919746,
                "yshift": 15,
                "z": 0.486484
               },
               {
                "showarrow": false,
                "text": 5,
                "x": 1.315822,
                "y": 2.875,
                "yshift": 15,
                "z": -0.265496
               },
               {
                "showarrow": false,
                "text": 6,
                "x": 2.411067,
                "y": 1.919751,
                "yshift": 15,
                "z": -0.486485
               },
               {
                "showarrow": false,
                "text": 7,
                "x": 1.154756,
                "y": 3.720123,
                "yshift": 15,
                "z": -1.457438
               },
               {
                "showarrow": false,
                "text": 8,
                "x": -1.746782,
                "y": 3.104968,
                "yshift": 15,
                "z": -1.763247
               },
               {
                "showarrow": false,
                "text": 9,
                "x": -2.537891,
                "y": 4.255123,
                "yshift": 15,
                "z": -0.712365
               },
               {
                "showarrow": false,
                "text": 10,
                "x": -0.832329,
                "y": 4.415444,
                "yshift": 15,
                "z": -1.056493
               },
               {
                "showarrow": false,
                "text": 11,
                "x": -2.528296,
                "y": 1.304585,
                "yshift": 15,
                "z": -0.381118
               },
               {
                "showarrow": false,
                "text": 12,
                "x": -2.182705,
                "y": 1.304587,
                "yshift": 15,
                "z": 1.331666
               },
               {
                "showarrow": false,
                "text": 13,
                "x": -3.319404,
                "y": 2.454746,
                "yshift": 15,
                "z": 0.669762
               },
               {
                "showarrow": false,
                "text": 14,
                "x": 2.182712,
                "y": 1.30459,
                "yshift": 15,
                "z": -1.331666
               },
               {
                "showarrow": false,
                "text": 15,
                "x": 3.319408,
                "y": 2.454751,
                "yshift": 15,
                "z": -0.669766
               },
               {
                "showarrow": false,
                "text": 16,
                "x": 2.528302,
                "y": 1.304596,
                "yshift": 15,
                "z": 0.381121
               },
               {
                "showarrow": false,
                "text": 17,
                "x": 0.926396,
                "y": 3.104964,
                "yshift": 15,
                "z": -2.302619
               },
               {
                "showarrow": false,
                "text": 18,
                "x": 0.357536,
                "y": 4.41544,
                "yshift": 15,
                "z": -1.296581
               },
               {
                "showarrow": false,
                "text": 19,
                "x": 2.063098,
                "y": 4.255123,
                "yshift": 15,
                "z": -1.640715
               },
               {
                "showarrow": false,
                "text": 20,
                "x": 2.08,
                "y": 0,
                "yshift": 15,
                "z": 0
               },
               {
                "showarrow": false,
                "text": 21,
                "x": 2.715106,
                "y": -0.07255,
                "yshift": 15,
                "z": 0.76901
               },
               {
                "showarrow": false,
                "text": 22,
                "x": 2.665511,
                "y": 0.07255,
                "yshift": 15,
                "z": -0.76901
               },
               {
                "showarrow": false,
                "text": 23,
                "x": 0,
                "y": -2.08,
                "yshift": 15,
                "z": 0
               },
               {
                "showarrow": false,
                "text": 24,
                "x": -0.099344,
                "y": -2.715106,
                "yshift": 15,
                "z": 0.76601
               },
               {
                "showarrow": false,
                "text": 25,
                "x": 0.099344,
                "y": -2.665511,
                "yshift": 15,
                "z": -0.76601
               },
               {
                "showarrow": false,
                "text": 26,
                "x": -2.08,
                "y": 0,
                "yshift": 15,
                "z": 0
               },
               {
                "showarrow": false,
                "text": 27,
                "x": -2.715106,
                "y": -0.07255,
                "yshift": 15,
                "z": -0.76901
               },
               {
                "showarrow": false,
                "text": 28,
                "x": -2.665511,
                "y": 0.07255,
                "yshift": 15,
                "z": 0.76901
               },
               {
                "showarrow": false,
                "text": 29,
                "x": 0,
                "y": 0,
                "yshift": 15,
                "z": 2.08
               },
               {
                "showarrow": false,
                "text": 30,
                "x": -0.76601,
                "y": -0.099344,
                "yshift": 15,
                "z": 2.715106
               },
               {
                "showarrow": false,
                "text": 31,
                "x": 0.76601,
                "y": 0.099344,
                "yshift": 15,
                "z": 2.665511
               },
               {
                "showarrow": false,
                "text": 32,
                "x": 0,
                "y": 0,
                "yshift": 15,
                "z": -2.08
               },
               {
                "showarrow": false,
                "text": 33,
                "x": 0.771086,
                "y": -0.045454,
                "yshift": 15,
                "z": -2.715106
               },
               {
                "showarrow": false,
                "text": 34,
                "x": -0.771086,
                "y": 0.045454,
                "yshift": 15,
                "z": -2.665511
               }
              ]
             }
            ],
            "label": "Indices",
            "method": "relayout"
           },
           {
            "args": [
             {
              "scene.annotations": [
               {
                "showarrow": false,
                "text": 0,
                "x": 0,
                "y": 0,
                "yshift": 15,
                "z": 0
               },
               {
                "showarrow": false,
                "text": 1,
                "x": 0,
                "y": 2.1,
                "yshift": 15,
                "z": 0
               },
               {
                "showarrow": false,
                "text": 2,
                "x": -1.315822,
                "y": 2.875,
                "yshift": 15,
                "z": 0.265496
               },
               {
                "showarrow": false,
                "text": 3,
                "x": -1.629548,
                "y": 3.720125,
                "yshift": 15,
                "z": -0.895642
               },
               {
                "showarrow": false,
                "text": 4,
                "x": -2.411063,
                "y": 1.919746,
                "yshift": 15,
                "z": 0.486484
               },
               {
                "showarrow": false,
                "text": 5,
                "x": 1.315822,
                "y": 2.875,
                "yshift": 15,
                "z": -0.265496
               },
               {
                "showarrow": false,
                "text": 6,
                "x": 2.411067,
                "y": 1.919751,
                "yshift": 15,
                "z": -0.486485
               },
               {
                "showarrow": false,
                "text": 7,
                "x": 1.154756,
                "y": 3.720123,
                "yshift": 15,
                "z": -1.457438
               },
               {
                "showarrow": false,
                "text": 8,
                "x": -1.746782,
                "y": 3.104968,
                "yshift": 15,
                "z": -1.763247
               },
               {
                "showarrow": false,
                "text": 9,
                "x": -2.537891,
                "y": 4.255123,
                "yshift": 15,
                "z": -0.712365
               },
               {
                "showarrow": false,
                "text": 10,
                "x": -0.832329,
                "y": 4.415444,
                "yshift": 15,
                "z": -1.056493
               },
               {
                "showarrow": false,
                "text": 11,
                "x": -2.528296,
                "y": 1.304585,
                "yshift": 15,
                "z": -0.381118
               },
               {
                "showarrow": false,
                "text": 12,
                "x": -2.182705,
                "y": 1.304587,
                "yshift": 15,
                "z": 1.331666
               },
               {
                "showarrow": false,
                "text": 13,
                "x": -3.319404,
                "y": 2.454746,
                "yshift": 15,
                "z": 0.669762
               },
               {
                "showarrow": false,
                "text": 14,
                "x": 2.182712,
                "y": 1.30459,
                "yshift": 15,
                "z": -1.331666
               },
               {
                "showarrow": false,
                "text": 15,
                "x": 3.319408,
                "y": 2.454751,
                "yshift": 15,
                "z": -0.669766
               },
               {
                "showarrow": false,
                "text": 16,
                "x": 2.528302,
                "y": 1.304596,
                "yshift": 15,
                "z": 0.381121
               },
               {
                "showarrow": false,
                "text": 17,
                "x": 0.926396,
                "y": 3.104964,
                "yshift": 15,
                "z": -2.302619
               },
               {
                "showarrow": false,
                "text": 18,
                "x": 0.357536,
                "y": 4.41544,
                "yshift": 15,
                "z": -1.296581
               },
               {
                "showarrow": false,
                "text": 19,
                "x": 2.063098,
                "y": 4.255123,
                "yshift": 15,
                "z": -1.640715
               },
               {
                "showarrow": false,
                "text": 20,
                "x": 2.08,
                "y": 0,
                "yshift": 15,
                "z": 0
               },
               {
                "showarrow": false,
                "text": 21,
                "x": 2.715106,
                "y": -0.07255,
                "yshift": 15,
                "z": 0.76901
               },
               {
                "showarrow": false,
                "text": 22,
                "x": 2.665511,
                "y": 0.07255,
                "yshift": 15,
                "z": -0.76901
               },
               {
                "showarrow": false,
                "text": 23,
                "x": 0,
                "y": -2.08,
                "yshift": 15,
                "z": 0
               },
               {
                "showarrow": false,
                "text": 24,
                "x": -0.099344,
                "y": -2.715106,
                "yshift": 15,
                "z": 0.76601
               },
               {
                "showarrow": false,
                "text": 25,
                "x": 0.099344,
                "y": -2.665511,
                "yshift": 15,
                "z": -0.76601
               },
               {
                "showarrow": false,
                "text": 26,
                "x": -2.08,
                "y": 0,
                "yshift": 15,
                "z": 0
               },
               {
                "showarrow": false,
                "text": 27,
                "x": -2.715106,
                "y": -0.07255,
                "yshift": 15,
                "z": -0.76901
               },
               {
                "showarrow": false,
                "text": 28,
                "x": -2.665511,
                "y": 0.07255,
                "yshift": 15,
                "z": 0.76901
               },
               {
                "showarrow": false,
                "text": 29,
                "x": 0,
                "y": 0,
                "yshift": 15,
                "z": 2.08
               },
               {
                "showarrow": false,
                "text": 30,
                "x": -0.76601,
                "y": -0.099344,
                "yshift": 15,
                "z": 2.715106
               },
               {
                "showarrow": false,
                "text": 31,
                "x": 0.76601,
                "y": 0.099344,
                "yshift": 15,
                "z": 2.665511
               },
               {
                "showarrow": false,
                "text": 32,
                "x": 0,
                "y": 0,
                "yshift": 15,
                "z": -2.08
               },
               {
                "showarrow": false,
                "text": 33,
                "x": 0.771086,
                "y": -0.045454,
                "yshift": 15,
                "z": -2.715106
               },
               {
                "showarrow": false,
                "text": 34,
                "x": -0.771086,
                "y": 0.045454,
                "yshift": 15,
                "z": -2.665511
               },
               {
                "font": {
                 "color": "steelblue"
                },
                "showarrow": false,
                "text": 2.82,
                "x": 0,
                "y": 1.05,
                "yshift": 15,
                "z": 0
               },
               {
                "font": {
                 "color": "steelblue"
                },
                "showarrow": false,
                "text": 2.63,
                "x": 1.04,
                "y": 0,
                "yshift": 15,
                "z": 0
               },
               {
                "font": {
                 "color": "steelblue"
                },
                "showarrow": false,
                "text": 2.63,
                "x": 0,
                "y": -1.04,
                "yshift": 15,
                "z": 0
               },
               {
                "font": {
                 "color": "steelblue"
                },
                "showarrow": false,
                "text": 2.63,
                "x": -1.04,
                "y": 0,
                "yshift": 15,
                "z": 0
               },
               {
                "font": {
                 "color": "steelblue"
                },
                "showarrow": false,
                "text": 2.63,
                "x": 0,
                "y": 0,
                "yshift": 15,
                "z": 1.04
               },
               {
                "font": {
                 "color": "steelblue"
                },
                "showarrow": false,
                "text": 2.63,
                "x": 0,
                "y": 0,
                "yshift": 15,
                "z": -1.04
               },
               {
                "font": {
                 "color": "steelblue"
                },
                "showarrow": false,
                "text": 1.96,
                "x": -0.657911,
                "y": 2.4875,
                "yshift": 15,
                "z": 0.132748
               },
               {
                "font": {
                 "color": "steelblue"
                },
                "showarrow": false,
                "text": 1.96,
                "x": 0.657911,
                "y": 2.4875,
                "yshift": 15,
                "z": -0.132748
               },
               {
                "font": {
                 "color": "steelblue"
                },
                "showarrow": false,
                "text": 1.77,
                "x": -1.472685,
                "y": 3.2975624999999997,
                "yshift": 15,
                "z": -0.31507300000000005
               },
               {
                "font": {
                 "color": "steelblue"
                },
                "showarrow": false,
                "text": 1.77,
                "x": -1.8634425000000001,
                "y": 2.397373,
                "yshift": 15,
                "z": 0.37599000000000005
               },
               {
                "font": {
                 "color": "steelblue"
                },
                "showarrow": false,
                "text": 1.18,
                "x": -1.6881650000000001,
                "y": 3.4125465,
                "yshift": 15,
                "z": -1.3294445000000001
               },
               {
                "font": {
                 "color": "steelblue"
                },
                "showarrow": false,
                "text": 1.18,
                "x": -2.0837195,
                "y": 3.9876240000000003,
                "yshift": 15,
                "z": -0.8040035000000001
               },
               {
                "font": {
                 "color": "steelblue"
                },
                "showarrow": false,
                "text": 1.18,
                "x": -1.2309385,
                "y": 4.0677845,
                "yshift": 15,
                "z": -0.9760675
               },
               {
                "font": {
                 "color": "steelblue"
                },
                "showarrow": false,
                "text": 1.18,
                "x": -2.4696795,
                "y": 1.6121655000000001,
                "yshift": 15,
                "z": 0.05268300000000001
               },
               {
                "font": {
                 "color": "steelblue"
                },
                "showarrow": false,
                "text": 1.18,
                "x": -2.296884,
                "y": 1.6121664999999998,
                "yshift": 15,
                "z": 0.9090750000000001
               },
               {
                "font": {
                 "color": "steelblue"
                },
                "showarrow": false,
                "text": 1.18,
                "x": -2.8652335,
                "y": 2.187246,
                "yshift": 15,
                "z": 0.5781229999999999
               },
               {
                "font": {
                 "color": "steelblue"
                },
                "showarrow": false,
                "text": 1.77,
                "x": 1.8634445,
                "y": 2.3973755,
                "yshift": 15,
                "z": -0.3759905
               },
               {
                "font": {
                 "color": "steelblue"
                },
                "showarrow": false,
                "text": 1.77,
                "x": 1.2352889999999999,
                "y": 3.2975615,
                "yshift": 15,
                "z": -0.861467
               },
               {
                "font": {
                 "color": "steelblue"
                },
                "showarrow": false,
                "text": 1.18,
                "x": 2.2968895,
                "y": 1.6121705,
                "yshift": 15,
                "z": -0.9090755
               },
               {
                "font": {
                 "color": "steelblue"
                },
                "showarrow": false,
                "text": 1.18,
                "x": 2.8652375,
                "y": 2.187251,
                "yshift": 15,
                "z": -0.5781255
               },
               {
                "font": {
                 "color": "steelblue"
                },
                "showarrow": false,
                "text": 1.18,
                "x": 2.4696845,
                "y": 1.6121735,
                "yshift": 15,
                "z": -0.05268200000000001
               },
               {
                "font": {
                 "color": "steelblue"
                },
                "showarrow": false,
                "text": 1.18,
                "x": 1.040576,
                "y": 3.4125435,
                "yshift": 15,
                "z": -1.8800284999999999
               },
               {
                "font": {
                 "color": "steelblue"
                },
                "showarrow": false,
                "text": 1.18,
                "x": 0.756146,
                "y": 4.067781500000001,
                "yshift": 15,
                "z": -1.3770095
               },
               {
                "font": {
                 "color": "steelblue"
                },
                "showarrow": false,
                "text": 1.18,
                "x": 1.608927,
                "y": 3.987623,
                "yshift": 15,
                "z": -1.5490765
               },
               {
                "font": {
                 "color": "steelblue"
                },
                "showarrow": false,
                "text": 1.18,
                "x": 2.3975530000000003,
                "y": -0.036275,
                "yshift": 15,
                "z": 0.384505
               },
               {
                "font": {
                 "color": "steelblue"
                },
                "showarrow": false,
                "text": 1.18,
                "x": 2.3727555000000002,
                "y": 0.036275,
                "yshift": 15,
                "z": -0.384505
               },
               {
                "font": {
                 "color": "steelblue"
                },
                "showarrow": false,
                "text": 1.18,
                "x": -0.049672,
                "y": -2.3975530000000003,
                "yshift": 15,
                "z": 0.383005
               },
               {
                "font": {
                 "color": "steelblue"
                },
                "showarrow": false,
                "text": 1.18,
                "x": 0.049672,
                "y": -2.3727555000000002,
                "yshift": 15,
                "z": -0.383005
               },
               {
                "font": {
                 "color": "steelblue"
                },
                "showarrow": false,
                "text": 1.18,
                "x": -2.3975530000000003,
                "y": -0.036275,
                "yshift": 15,
                "z": -0.384505
               },
               {
                "font": {
                 "color": "steelblue"
                },
                "showarrow": false,
                "text": 1.18,
                "x": -2.3727555000000002,
                "y": 0.036275,
                "yshift": 15,
                "z": 0.384505
               },
               {
                "font": {
                 "color": "steelblue"
                },
                "showarrow": false,
                "text": 1.18,
                "x": -0.383005,
                "y": -0.049672,
                "yshift": 15,
                "z": 2.3975530000000003
               },
               {
                "font": {
                 "color": "steelblue"
                },
                "showarrow": false,
                "text": 1.18,
                "x": 0.383005,
                "y": 0.049672,
                "yshift": 15,
                "z": 2.3727555000000002
               },
               {
                "font": {
                 "color": "steelblue"
                },
                "showarrow": false,
                "text": 1.18,
                "x": 0.385543,
                "y": -0.022727,
                "yshift": 15,
                "z": -2.3975530000000003
               },
               {
                "font": {
                 "color": "steelblue"
                },
                "showarrow": false,
                "text": 1.18,
                "x": -0.385543,
                "y": 0.022727,
                "yshift": 15,
                "z": -2.3727555000000002
               }
              ]
             }
            ],
            "label": "Indices & Bond Lengths",
            "method": "relayout"
           },
           {
            "args": [
             {
              "scene.annotations": [
               {
                "font": {
                 "color": "steelblue"
                },
                "showarrow": false,
                "text": 2.82,
                "x": 0,
                "y": 1.05,
                "yshift": 15,
                "z": 0
               },
               {
                "font": {
                 "color": "steelblue"
                },
                "showarrow": false,
                "text": 2.63,
                "x": 1.04,
                "y": 0,
                "yshift": 15,
                "z": 0
               },
               {
                "font": {
                 "color": "steelblue"
                },
                "showarrow": false,
                "text": 2.63,
                "x": 0,
                "y": -1.04,
                "yshift": 15,
                "z": 0
               },
               {
                "font": {
                 "color": "steelblue"
                },
                "showarrow": false,
                "text": 2.63,
                "x": -1.04,
                "y": 0,
                "yshift": 15,
                "z": 0
               },
               {
                "font": {
                 "color": "steelblue"
                },
                "showarrow": false,
                "text": 2.63,
                "x": 0,
                "y": 0,
                "yshift": 15,
                "z": 1.04
               },
               {
                "font": {
                 "color": "steelblue"
                },
                "showarrow": false,
                "text": 2.63,
                "x": 0,
                "y": 0,
                "yshift": 15,
                "z": -1.04
               },
               {
                "font": {
                 "color": "steelblue"
                },
                "showarrow": false,
                "text": 1.96,
                "x": -0.657911,
                "y": 2.4875,
                "yshift": 15,
                "z": 0.132748
               },
               {
                "font": {
                 "color": "steelblue"
                },
                "showarrow": false,
                "text": 1.96,
                "x": 0.657911,
                "y": 2.4875,
                "yshift": 15,
                "z": -0.132748
               },
               {
                "font": {
                 "color": "steelblue"
                },
                "showarrow": false,
                "text": 1.77,
                "x": -1.472685,
                "y": 3.2975624999999997,
                "yshift": 15,
                "z": -0.31507300000000005
               },
               {
                "font": {
                 "color": "steelblue"
                },
                "showarrow": false,
                "text": 1.77,
                "x": -1.8634425000000001,
                "y": 2.397373,
                "yshift": 15,
                "z": 0.37599000000000005
               },
               {
                "font": {
                 "color": "steelblue"
                },
                "showarrow": false,
                "text": 1.18,
                "x": -1.6881650000000001,
                "y": 3.4125465,
                "yshift": 15,
                "z": -1.3294445000000001
               },
               {
                "font": {
                 "color": "steelblue"
                },
                "showarrow": false,
                "text": 1.18,
                "x": -2.0837195,
                "y": 3.9876240000000003,
                "yshift": 15,
                "z": -0.8040035000000001
               },
               {
                "font": {
                 "color": "steelblue"
                },
                "showarrow": false,
                "text": 1.18,
                "x": -1.2309385,
                "y": 4.0677845,
                "yshift": 15,
                "z": -0.9760675
               },
               {
                "font": {
                 "color": "steelblue"
                },
                "showarrow": false,
                "text": 1.18,
                "x": -2.4696795,
                "y": 1.6121655000000001,
                "yshift": 15,
                "z": 0.05268300000000001
               },
               {
                "font": {
                 "color": "steelblue"
                },
                "showarrow": false,
                "text": 1.18,
                "x": -2.296884,
                "y": 1.6121664999999998,
                "yshift": 15,
                "z": 0.9090750000000001
               },
               {
                "font": {
                 "color": "steelblue"
                },
                "showarrow": false,
                "text": 1.18,
                "x": -2.8652335,
                "y": 2.187246,
                "yshift": 15,
                "z": 0.5781229999999999
               },
               {
                "font": {
                 "color": "steelblue"
                },
                "showarrow": false,
                "text": 1.77,
                "x": 1.8634445,
                "y": 2.3973755,
                "yshift": 15,
                "z": -0.3759905
               },
               {
                "font": {
                 "color": "steelblue"
                },
                "showarrow": false,
                "text": 1.77,
                "x": 1.2352889999999999,
                "y": 3.2975615,
                "yshift": 15,
                "z": -0.861467
               },
               {
                "font": {
                 "color": "steelblue"
                },
                "showarrow": false,
                "text": 1.18,
                "x": 2.2968895,
                "y": 1.6121705,
                "yshift": 15,
                "z": -0.9090755
               },
               {
                "font": {
                 "color": "steelblue"
                },
                "showarrow": false,
                "text": 1.18,
                "x": 2.8652375,
                "y": 2.187251,
                "yshift": 15,
                "z": -0.5781255
               },
               {
                "font": {
                 "color": "steelblue"
                },
                "showarrow": false,
                "text": 1.18,
                "x": 2.4696845,
                "y": 1.6121735,
                "yshift": 15,
                "z": -0.05268200000000001
               },
               {
                "font": {
                 "color": "steelblue"
                },
                "showarrow": false,
                "text": 1.18,
                "x": 1.040576,
                "y": 3.4125435,
                "yshift": 15,
                "z": -1.8800284999999999
               },
               {
                "font": {
                 "color": "steelblue"
                },
                "showarrow": false,
                "text": 1.18,
                "x": 0.756146,
                "y": 4.067781500000001,
                "yshift": 15,
                "z": -1.3770095
               },
               {
                "font": {
                 "color": "steelblue"
                },
                "showarrow": false,
                "text": 1.18,
                "x": 1.608927,
                "y": 3.987623,
                "yshift": 15,
                "z": -1.5490765
               },
               {
                "font": {
                 "color": "steelblue"
                },
                "showarrow": false,
                "text": 1.18,
                "x": 2.3975530000000003,
                "y": -0.036275,
                "yshift": 15,
                "z": 0.384505
               },
               {
                "font": {
                 "color": "steelblue"
                },
                "showarrow": false,
                "text": 1.18,
                "x": 2.3727555000000002,
                "y": 0.036275,
                "yshift": 15,
                "z": -0.384505
               },
               {
                "font": {
                 "color": "steelblue"
                },
                "showarrow": false,
                "text": 1.18,
                "x": -0.049672,
                "y": -2.3975530000000003,
                "yshift": 15,
                "z": 0.383005
               },
               {
                "font": {
                 "color": "steelblue"
                },
                "showarrow": false,
                "text": 1.18,
                "x": 0.049672,
                "y": -2.3727555000000002,
                "yshift": 15,
                "z": -0.383005
               },
               {
                "font": {
                 "color": "steelblue"
                },
                "showarrow": false,
                "text": 1.18,
                "x": -2.3975530000000003,
                "y": -0.036275,
                "yshift": 15,
                "z": -0.384505
               },
               {
                "font": {
                 "color": "steelblue"
                },
                "showarrow": false,
                "text": 1.18,
                "x": -2.3727555000000002,
                "y": 0.036275,
                "yshift": 15,
                "z": 0.384505
               },
               {
                "font": {
                 "color": "steelblue"
                },
                "showarrow": false,
                "text": 1.18,
                "x": -0.383005,
                "y": -0.049672,
                "yshift": 15,
                "z": 2.3975530000000003
               },
               {
                "font": {
                 "color": "steelblue"
                },
                "showarrow": false,
                "text": 1.18,
                "x": 0.383005,
                "y": 0.049672,
                "yshift": 15,
                "z": 2.3727555000000002
               },
               {
                "font": {
                 "color": "steelblue"
                },
                "showarrow": false,
                "text": 1.18,
                "x": 0.385543,
                "y": -0.022727,
                "yshift": 15,
                "z": -2.3975530000000003
               },
               {
                "font": {
                 "color": "steelblue"
                },
                "showarrow": false,
                "text": 1.18,
                "x": -0.385543,
                "y": 0.022727,
                "yshift": 15,
                "z": -2.3727555000000002
               }
              ]
             }
            ],
            "label": "Bond Lengths",
            "method": "relayout"
           },
           {
            "args": [
             {
              "scene.annotations": []
             }
            ],
            "label": "Hide All",
            "method": "relayout"
           }
          ],
          "direction": "down",
          "xanchor": "left",
          "yanchor": "top"
         }
        ]
       }
      }
     },
     "metadata": {},
     "output_type": "display_data"
    },
    {
     "name": "stdout",
     "output_type": "stream",
     "text": [
      "[(np.int64(0), {'element': 'Fe', 'xyz': (0.0, 0.0, 0.0)}), (np.int64(1), {'element': 'B', 'xyz': (0.0, 2.1, -0.0)}), (np.int64(20), {'element': 'O', 'xyz': (2.08, -0.0, -0.0)}), (np.int64(23), {'element': 'O', 'xyz': (-0.0, -2.08, 0.0)}), (np.int64(26), {'element': 'O', 'xyz': (-2.08, 0.0, 0.0)}), (np.int64(29), {'element': 'O', 'xyz': (0.0, 0.0, 2.08)}), (np.int64(32), {'element': 'O', 'xyz': (0.0, -0.0, -2.08)}), (np.int64(2), {'element': 'N', 'xyz': (-1.315822, 2.875, 0.265496)}), (np.int64(5), {'element': 'N', 'xyz': (1.315822, 2.875, -0.265496)}), (np.int64(3), {'element': 'C', 'xyz': (-1.629548, 3.720125, -0.895642)}), (np.int64(4), {'element': 'C', 'xyz': (-2.411063, 1.919746, 0.486484)}), (np.int64(8), {'element': 'H', 'xyz': (-1.746782, 3.104968, -1.763247)}), (np.int64(9), {'element': 'H', 'xyz': (-2.537891, 4.255123, -0.712365)}), (np.int64(10), {'element': 'H', 'xyz': (-0.832329, 4.415444, -1.056493)}), (np.int64(11), {'element': 'H', 'xyz': (-2.528296, 1.304585, -0.381118)}), (np.int64(12), {'element': 'H', 'xyz': (-2.182705, 1.304587, 1.331666)}), (np.int64(13), {'element': 'H', 'xyz': (-3.319404, 2.454746, 0.669762)}), (np.int64(6), {'element': 'C', 'xyz': (2.411067, 1.919751, -0.486485)}), (np.int64(7), {'element': 'C', 'xyz': (1.154756, 3.720123, -1.457438)}), (np.int64(14), {'element': 'H', 'xyz': (2.182712, 1.30459, -1.331666)}), (np.int64(15), {'element': 'H', 'xyz': (3.319408, 2.454751, -0.669766)}), (np.int64(16), {'element': 'H', 'xyz': (2.528302, 1.304596, 0.381121)}), (np.int64(17), {'element': 'H', 'xyz': (0.926396, 3.104964, -2.302619)}), (np.int64(18), {'element': 'H', 'xyz': (0.357536, 4.41544, -1.296581)}), (np.int64(19), {'element': 'H', 'xyz': (2.063098, 4.255123, -1.640715)}), (np.int64(21), {'element': 'H', 'xyz': (2.715106, -0.07255, 0.76901)}), (np.int64(22), {'element': 'H', 'xyz': (2.665511, 0.07255, -0.76901)}), (np.int64(24), {'element': 'H', 'xyz': (-0.099344, -2.715106, 0.76601)}), (np.int64(25), {'element': 'H', 'xyz': (0.099344, -2.665511, -0.76601)}), (np.int64(27), {'element': 'H', 'xyz': (-2.715106, -0.07255, -0.76901)}), (np.int64(28), {'element': 'H', 'xyz': (-2.665511, 0.07255, 0.76901)}), (np.int64(30), {'element': 'H', 'xyz': (-0.76601, -0.099344, 2.715106)}), (np.int64(31), {'element': 'H', 'xyz': (0.76601, 0.099344, 2.665511)}), (np.int64(33), {'element': 'H', 'xyz': (0.771086, -0.045454, -2.715106)}), (np.int64(34), {'element': 'H', 'xyz': (-0.771086, 0.045454, -2.665511)})]\n",
      "[(np.int64(0), np.int64(32), {'length': np.float64(2.626)}), (np.int64(0), np.int64(1), {'length': np.float64(2.821)}), (np.int64(0), np.int64(20), {'length': np.float64(2.626)}), (np.int64(0), np.int64(23), {'length': np.float64(2.626)}), (np.int64(0), np.int64(26), {'length': np.float64(2.626)}), (np.int64(0), np.int64(29), {'length': np.float64(2.626)}), (np.int64(1), np.int64(2), {'length': np.float64(1.963)}), (np.int64(1), np.int64(5), {'length': np.float64(1.963)}), (np.int64(20), np.int64(21), {'length': np.float64(1.183)}), (np.int64(20), np.int64(22), {'length': np.float64(1.183)}), (np.int64(23), np.int64(24), {'length': np.float64(1.183)}), (np.int64(23), np.int64(25), {'length': np.float64(1.183)}), (np.int64(26), np.int64(27), {'length': np.float64(1.183)}), (np.int64(26), np.int64(28), {'length': np.float64(1.183)}), (np.int64(29), np.int64(30), {'length': np.float64(1.183)}), (np.int64(29), np.int64(31), {'length': np.float64(1.183)}), (np.int64(32), np.int64(33), {'length': np.float64(1.183)}), (np.int64(32), np.int64(34), {'length': np.float64(1.183)}), (np.int64(2), np.int64(3), {'length': np.float64(1.768)}), (np.int64(2), np.int64(4), {'length': np.float64(1.768)}), (np.int64(5), np.int64(6), {'length': np.float64(1.768)}), (np.int64(5), np.int64(7), {'length': np.float64(1.768)}), (np.int64(3), np.int64(8), {'length': np.float64(1.183)}), (np.int64(3), np.int64(9), {'length': np.float64(1.183)}), (np.int64(3), np.int64(10), {'length': np.float64(1.183)}), (np.int64(4), np.int64(11), {'length': np.float64(1.183)}), (np.int64(4), np.int64(12), {'length': np.float64(1.183)}), (np.int64(4), np.int64(13), {'length': np.float64(1.183)}), (np.int64(6), np.int64(16), {'length': np.float64(1.183)}), (np.int64(6), np.int64(14), {'length': np.float64(1.183)}), (np.int64(6), np.int64(15), {'length': np.float64(1.183)}), (np.int64(7), np.int64(17), {'length': np.float64(1.183)}), (np.int64(7), np.int64(18), {'length': np.float64(1.183)}), (np.int64(7), np.int64(19), {'length': np.float64(1.183)})]\n",
      "35\n",
      "Missing coordinates: set()\n"
     ]
    }
   ],
   "source": [
    "def understand_mol_graph(path):\n",
    "    # Parse the .xyz file\n",
    "    with open(path, 'r') as file:\n",
    "        lines = file.readlines()[2:]  # Skip the first two lines\n",
    "        atoms = [tuple(map(float, line.split()[1:4])) for line in lines]  # Get the coordinates\n",
    "\n",
    "    # Create the MolGraph object\n",
    "    mg = MolGraph()\n",
    "    mg.read_xyz(path)\n",
    "    \n",
    "    # Plot the molecular graph\n",
    "    fig = to_plotly_figure(mg)\n",
    "    iplot(fig)\n",
    "\n",
    "    # Convert the molecular graph to the NetworkX graph\n",
    "    G = to_networkx_graph(mg)\n",
    "    print(G.nodes(data=True))\n",
    "    print(G.edges(data=True))\n",
    "    print(len(G.nodes))\n",
    "\n",
    "    # Compare the atoms to the nodes in the graph\n",
    "    graph_nodes = [data['xyz'] for node, data in G.nodes(data=True)]\n",
    "    missing_atoms = set(atoms) - set(graph_nodes)\n",
    "    print(f\"Missing coordinates: {missing_atoms}\")\n",
    "\n",
    "understand_mol_graph('data/xyz_molsimp/monosubstituted_0001.xyz')"
   ]
  },
  {
   "cell_type": "code",
   "execution_count": 7,
   "metadata": {},
   "outputs": [],
   "source": [
    "electronegativities = {\n",
    "    \"H\": 2.20, \"He\": None,\n",
    "    \"Li\": 0.98, \"Be\": 1.57, \"B\": 2.04, \"C\": 2.55, \"N\": 3.04, \"O\": 3.44, \"F\": 3.98, \"Ne\": None,\n",
    "    \"Na\": 0.93, \"Mg\": 1.31, \"Al\": 1.61, \"Si\": 1.90, \"P\": 2.19, \"S\": 2.58, \"Cl\": 3.16, \"Ar\": None,\n",
    "    \"K\": 0.82, \"Ca\": 1.00, \"Sc\": 1.36, \"Ti\": 1.54, \"V\": 1.63, \"Cr\": 1.66, \"Mn\": 1.55, \"Fe\": 1.83,\n",
    "    \"Co\": 1.88, \"Ni\": 1.91, \"Cu\": 1.90, \"Zn\": 1.65, \"Ga\": 1.81, \"Ge\": 2.01, \"As\": 2.18, \"Se\": 2.55,\n",
    "    \"Br\": 2.96, \"Kr\": 3.00,\n",
    "    \"Rb\": 0.82, \"Sr\": 0.95, \"Y\": 1.22, \"Zr\": 1.33, \"Nb\": 1.6, \"Mo\": 2.16, \"Tc\": 1.9, \"Ru\": 2.2,\n",
    "    \"Rh\": 2.28, \"Pd\": 2.20, \"Ag\": 1.93, \"Cd\": 1.69, \"In\": 1.78, \"Sn\": 1.96, \"Sb\": 2.05, \"Te\": 2.1,\n",
    "    \"I\": 2.66, \"Xe\": 2.6,\n",
    "    \"Cs\": 0.79, \"Ba\": 0.89, \"La\": 1.10, \"Ce\": 1.12, \"Pr\": 1.13, \"Nd\": 1.14, \"Pm\": None, \"Sm\": 1.17,\n",
    "    \"Eu\": None, \"Gd\": 1.20, \"Tb\": None, \"Dy\": 1.22, \"Ho\": 1.23, \"Er\": 1.24, \"Tm\": 1.25, \"Yb\": None,\n",
    "    \"Lu\": 1.27, \"Hf\": 1.3, \"Ta\": 1.5, \"W\": 2.36, \"Re\": 1.9, \"Os\": 2.2, \"Ir\": 2.20, \"Pt\": 2.28,\n",
    "    \"Au\": 2.54, \"Hg\": 2.00, \"Tl\": 1.62, \"Pb\": 2.33, \"Bi\": 2.02, \"Po\": 2.0, \"At\": 2.2, \"Rn\": None,\n",
    "    \"Fr\": 0.7, \"Ra\": 0.9, \"Ac\": 1.1, \"Th\": 1.3, \"Pa\": 1.5, \"U\": 1.38, \"Np\": 1.36, \"Pu\": 1.28,\n",
    "    \"Am\": 1.3, \"Cm\": 1.3, \"Bk\": 1.3, \"Cf\": 1.3, \"Es\": 1.3, \"Fm\": 1.3, \"Md\": 1.3, \"No\": 1.3,\n",
    "    \"Lr\": 1.3\n",
    "}\n",
    "\n",
    "\n",
    "def get_element_properties(element_symbol):\n",
    "    element = pt.elements.symbol(element_symbol)\n",
    "    \n",
    "    # Normalize atomic number and weight\n",
    "    normalized_atomic_number = element.number / 118.0\n",
    "    normalized_weight = element.mass / 294.0\n",
    "\n",
    "    electronegativity = electronegativities[element_symbol]\n",
    "    atomic_radius = element.covalent_radius\n",
    "\n",
    "    return normalized_atomic_number, normalized_weight, electronegativity, atomic_radius"
   ]
  },
  {
   "cell_type": "code",
   "execution_count": 10,
   "metadata": {},
   "outputs": [
    {
     "name": "stdout",
     "output_type": "stream",
     "text": [
      "n 0 1.00866491597 0.2\n",
      "H 1 1.00794 0.31\n",
      "He 2 4.002602 0.28\n",
      "Li 3 6.941 1.28\n",
      "Be 4 9.012182 0.96\n",
      "B 5 10.811 0.84\n",
      "C 6 12.0107 0.76\n",
      "N 7 14.0067 0.71\n",
      "O 8 15.9994 0.66\n",
      "F 9 18.9984032 0.57\n",
      "Ne 10 20.1797 0.58\n",
      "Na 11 22.98977 1.66\n",
      "Mg 12 24.305 1.41\n",
      "Al 13 26.981538 1.21\n",
      "Si 14 28.0855 1.11\n",
      "P 15 30.973761 1.07\n",
      "S 16 32.065 1.05\n",
      "Cl 17 35.453 1.02\n",
      "Ar 18 39.948 1.06\n",
      "K 19 39.0983 2.03\n",
      "Ca 20 40.078 1.76\n",
      "Sc 21 44.95591 1.7\n",
      "Ti 22 47.867 1.6\n",
      "V 23 50.9415 1.53\n",
      "Cr 24 51.9961 1.39\n",
      "Mn 25 54.938049 1.39\n",
      "Fe 26 55.845 1.32\n",
      "Co 27 58.9332 1.26\n",
      "Ni 28 58.6934 1.24\n",
      "Cu 29 63.546 1.32\n",
      "Zn 30 65.409 1.22\n",
      "Ga 31 69.723 1.22\n",
      "Ge 32 72.64 1.2\n",
      "As 33 74.9216 1.19\n",
      "Se 34 78.96 1.2\n",
      "Br 35 79.904 1.2\n",
      "Kr 36 83.798 1.16\n",
      "Rb 37 85.4678 2.2\n",
      "Sr 38 87.62 1.95\n",
      "Y 39 88.90585 1.9\n",
      "Zr 40 91.224 1.75\n",
      "Nb 41 92.90638 1.64\n",
      "Mo 42 95.94 1.54\n",
      "Tc 43 98 1.47\n",
      "Ru 44 101.07 1.46\n",
      "Rh 45 102.9055 1.42\n",
      "Pd 46 106.42 1.39\n",
      "Ag 47 107.8682 1.45\n",
      "Cd 48 112.411 1.44\n",
      "In 49 114.818 1.42\n",
      "Sn 50 118.71 1.39\n",
      "Sb 51 121.76 1.39\n",
      "Te 52 127.6 1.38\n",
      "I 53 126.90447 1.39\n",
      "Xe 54 131.293 1.4\n",
      "Cs 55 132.90545 2.44\n",
      "Ba 56 137.327 2.15\n",
      "La 57 138.9055 2.07\n",
      "Ce 58 140.116 2.04\n",
      "Pr 59 140.90765 2.03\n",
      "Nd 60 144.24 2.01\n",
      "Pm 61 145 1.99\n",
      "Sm 62 150.36 1.98\n",
      "Eu 63 151.964 1.98\n",
      "Gd 64 157.25 1.96\n",
      "Tb 65 158.92534 1.94\n",
      "Dy 66 162.5 1.92\n",
      "Ho 67 164.93032 1.92\n",
      "Er 68 167.259 1.89\n",
      "Tm 69 168.93421 1.9\n",
      "Yb 70 173.04 1.87\n",
      "Lu 71 174.967 1.87\n",
      "Hf 72 178.49 1.75\n",
      "Ta 73 180.9479 1.7\n",
      "W 74 183.84 1.62\n",
      "Re 75 186.207 1.51\n",
      "Os 76 190.23 1.44\n",
      "Ir 77 192.217 1.41\n",
      "Pt 78 195.078 1.36\n",
      "Au 79 196.96655 1.36\n",
      "Hg 80 200.59 1.32\n",
      "Tl 81 204.3833 1.45\n",
      "Pb 82 207.2 1.46\n",
      "Bi 83 208.98038 1.48\n",
      "Po 84 209 1.4\n",
      "At 85 210 1.5\n",
      "Rn 86 222 1.5\n",
      "Fr 87 223 2.6\n",
      "Ra 88 226 2.21\n",
      "Ac 89 227 2.15\n",
      "Th 90 232.0381 2.06\n",
      "Pa 91 231.03588 2.0\n",
      "U 92 238.02891 1.96\n",
      "Np 93 237 1.9\n",
      "Pu 94 244 1.87\n",
      "Am 95 243 1.8\n",
      "Cm 96 247 1.69\n",
      "Bk 97 247 None\n",
      "Cf 98 251 None\n",
      "Es 99 252 None\n",
      "Fm 100 257 None\n",
      "Md 101 258 None\n",
      "No 102 259 None\n",
      "Lr 103 262 None\n",
      "Rf 104 261 None\n",
      "Db 105 262 None\n",
      "Sg 106 266 None\n",
      "Bh 107 264 None\n",
      "Hs 108 277 None\n",
      "Mt 109 268 None\n",
      "Ds 110 281 None\n",
      "Rg 111 272 None\n",
      "Cn 112 285 None\n",
      "Nh 113 286 None\n",
      "Fl 114 289 None\n",
      "Mc 115 289 None\n",
      "Lv 116 293 None\n",
      "Ts 117 294 None\n",
      "Og 118 294 None\n"
     ]
    }
   ],
   "source": [
    "for element in pt.elements:\n",
    "    print(element.symbol, element.number, element.mass, element.covalent_radius)"
   ]
  },
  {
   "cell_type": "code",
   "execution_count": 11,
   "metadata": {},
   "outputs": [
    {
     "data": {
      "text/plain": [
       "(0.2288135593220339, 0.2004530612244898, 1.88, 1.26)"
      ]
     },
     "execution_count": 11,
     "metadata": {},
     "output_type": "execute_result"
    }
   ],
   "source": [
    "get_element_properties('Co')"
   ]
  },
  {
   "cell_type": "code",
   "execution_count": 12,
   "metadata": {},
   "outputs": [],
   "source": [
    "def to_pyg_graph_triple(name, gen_xyz_path, gen_csv_path):\n",
    "    # Read the csv file\n",
    "    try:\n",
    "        df = pd.read_csv(f\"{gen_csv_path}.csv\")\n",
    "    except FileNotFoundError:\n",
    "        print(f\"No csv file found at {gen_csv_path}.csv\")\n",
    "        return None\n",
    "    \n",
    "    # Filter the csv data to get the row associated with the name\n",
    "    row = df[df['name'] == name]\n",
    "    \n",
    "    # Check if the row is empty\n",
    "    if row.empty:\n",
    "        print(f\"No data found for name {name} in the csv file {gen_csv_path}.csv\")\n",
    "        return None\n",
    "    \n",
    "    # Extract the first two letters of the name which symbolize the element\n",
    "    element = re.match(r\"^[A-Za-z]{2}\", name).group()\n",
    "    \n",
    "    # Construct the rest of the name\n",
    "    rest_of_the_name = re.sub(r\"^[A-Za-z]{2}\", \"\", name)\n",
    "    \n",
    "    # Construct the filenames for the xyz data\n",
    "    filenames = [f\"{element}_II{rest_of_the_name}_{state}.xyz\" for state in ['HS', 'LS']]\n",
    "    filenames.extend([f\"{element}_III{rest_of_the_name}_{state}.xyz\" for state in ['HS', 'LS']])\n",
    "    \n",
    "    data_list = []\n",
    "    for filename in filenames:\n",
    "        try:\n",
    "            # Create the MolGraph object for the file\n",
    "            mg = MolGraph()\n",
    "            mg.read_xyz(f\"{gen_xyz_path}/{filename}\")\n",
    "\n",
    "            # Convert the molecular graph to the NetworkX graph\n",
    "            G = to_networkx_graph(mg)\n",
    "\n",
    "            # Get element properties for each node and store them in the node features\n",
    "            for node in G.nodes:\n",
    "                element_symbol = G.nodes[node]['element']\n",
    "                G.nodes[node]['element_properties'] = get_element_properties(element_symbol)\n",
    "\n",
    "            # Convert the NetworkX graph to the PyG graph\n",
    "            data = from_networkx(G, group_node_attrs=['xyz', 'element_properties'], group_edge_attrs=['length'])\n",
    "\n",
    "            if data is not None:\n",
    "                data_list.append(data)\n",
    "        except FileNotFoundError:\n",
    "            print(f\"No xyz file found at {gen_xyz_path}/{filename}\")\n",
    "    \n",
    "    # Concatenate the PyG graph data\n",
    "    x = [d.x for d in data_list if d.x is not None]\n",
    "    edge_index = [d.edge_index for d in data_list if d.edge_index is not None]\n",
    "    edge_attr = [d.edge_attr for d in data_list if d.edge_attr is not None]\n",
    "\n",
    "    if x and edge_index and edge_attr:  # Check if the lists are not empty\n",
    "        data = Data(x=torch.cat(x, dim=0),\n",
    "                    edge_index=torch.cat(edge_index, dim=1),\n",
    "                    edge_attr=torch.cat(edge_attr, dim=0))\n",
    "    else:\n",
    "        print(\"No valid data found in the files.\")\n",
    "        return None\n",
    "    \n",
    "    # Get the last 7 columns of the filtered row\n",
    "    output_data = row.iloc[:, -7:]\n",
    "    \n",
    "    # Add the output data to the PyG graph data\n",
    "    for col in output_data.columns:\n",
    "        data[col] = output_data[col].values[0]\n",
    "    \n",
    "    return data"
   ]
  },
  {
   "cell_type": "code",
   "execution_count": 13,
   "metadata": {},
   "outputs": [],
   "source": [
    "def to_pyg_graph_single(name, gen_xyz_path, gen_csv_path):\n",
    "    # Read the csv file\n",
    "    try:\n",
    "        df = pd.read_csv(f\"{gen_csv_path}.csv\")\n",
    "    except FileNotFoundError:\n",
    "        print(f\"No csv file found at {gen_csv_path}.csv\")\n",
    "        return None\n",
    "    \n",
    "    # Filter the csv data to get the row associated with the name\n",
    "    row = df[df['name'] == name]\n",
    "    \n",
    "    # Check if the row is empty\n",
    "    if row.empty:\n",
    "        print(f\"No data found for name {name} in the csv file {gen_csv_path}.csv\")\n",
    "        return None\n",
    "    \n",
    "    # Extract the first two letters of the name which symbolize the element\n",
    "    element = re.match(r\"^[A-Za-z]{2}\", name).group()\n",
    "    \n",
    "    # Construct the rest of the name\n",
    "    rest_of_the_name = re.sub(r\"^[A-Za-z]{2}\", \"\", name)\n",
    "    \n",
    "    # Construct the filenames for the xyz data\n",
    "    filenames = [f\"{element}_II{rest_of_the_name}_LS.xyz\", f\"{element}_II{rest_of_the_name}_HS.xyz\", f\"{element}_III{rest_of_the_name}_LS.xyz\", f\"{element}_III{rest_of_the_name}_HS.xyz\"]\n",
    "    \n",
    "    graph_list = []\n",
    "    for filename in filenames:\n",
    "        filepath = f\"{gen_xyz_path}/{filename}\"\n",
    "        if os.path.exists(filepath):\n",
    "            # Create the MolGraph object for the file\n",
    "            mg = MolGraph()\n",
    "            mg.read_xyz(filepath)\n",
    "\n",
    "            # Convert the molecular graph to the NetworkX graph\n",
    "            G = to_networkx_graph(mg)\n",
    "\n",
    "            # Get element properties for each node and store them in the node features (only for the first graph)\n",
    "            if not graph_list:\n",
    "                for node in G.nodes:\n",
    "                    element_symbol = G.nodes[node]['element']\n",
    "                    element_properties = get_element_properties(element_symbol)\n",
    "                    G.nodes[node]['element_properties'] = element_properties\n",
    "\n",
    "            graph_list.append(G)\n",
    "        else:\n",
    "            print(f\"No xyz file found at {filepath}\")\n",
    "    \n",
    "    if not graph_list:\n",
    "        print(f\"No valid graphs found for {name}\")\n",
    "        return None\n",
    "    \n",
    "    # Concatenate the xyz data from the available graphs\n",
    "    merged_graph = graph_list[0]\n",
    "    for i, G in enumerate(graph_list[1:], start=1):\n",
    "        for node in G.nodes:\n",
    "            merged_graph.nodes[node][f'xyz_{i}'] = G.nodes[node]['xyz']\n",
    "    \n",
    "    # Create the PyTorch Geometric Data object\n",
    "    data = Data()\n",
    "    \n",
    "    # Define the desired order of node attributes\n",
    "    node_attr_order = ['element_properties', 'xyz'] + [f'xyz_{i}' for i in range(1, len(graph_list))]\n",
    "    \n",
    "    # Set the node features\n",
    "    node_attrs = []\n",
    "    for attr in node_attr_order:\n",
    "        if attr in merged_graph.nodes[0]:\n",
    "            if isinstance(merged_graph.nodes[0][attr], (int, float)):\n",
    "                node_attrs.append(torch.tensor([[merged_graph.nodes[node][attr] for node in merged_graph.nodes]], dtype=torch.float).t())\n",
    "            elif isinstance(merged_graph.nodes[0][attr], (tuple, list)):\n",
    "                node_attrs.append(torch.tensor([merged_graph.nodes[node][attr] for node in merged_graph.nodes], dtype=torch.float))\n",
    "    data.x = torch.cat(node_attrs, dim=-1)\n",
    "    \n",
    "    # Set the edge index and edge features\n",
    "    edge_index = torch.tensor(list(merged_graph.edges), dtype=torch.long).t().contiguous()\n",
    "    edge_attr = torch.tensor([list(merged_graph.edges[edge].values()) for edge in merged_graph.edges], dtype=torch.float)\n",
    "    data.edge_index = edge_index\n",
    "    data.edge_attr = edge_attr\n",
    "    \n",
    "    # Get the last 7 columns of the filtered row\n",
    "    output_data = row.iloc[:, -7:]\n",
    "    \n",
    "    # Add the output data to the PyG graph data\n",
    "    for col in output_data.columns:\n",
    "        data[col] = output_data[col].values[0]\n",
    "    \n",
    "    return data"
   ]
  },
  {
   "cell_type": "code",
   "execution_count": 14,
   "metadata": {},
   "outputs": [],
   "source": [
    "def to_pyg_graph_noxyz(name, gen_xyz_path, gen_csv_path):\n",
    "    # Read the csv file\n",
    "    try:\n",
    "        df = pd.read_csv(f\"{gen_csv_path}.csv\")\n",
    "    except FileNotFoundError:\n",
    "        print(f\"No csv file found at {gen_csv_path}.csv\")\n",
    "        return None\n",
    "    \n",
    "    # Filter the csv data to get the row associated with the name\n",
    "    row = df[df['name'] == name]\n",
    "    \n",
    "    # Check if the row is empty\n",
    "    if row.empty:\n",
    "        print(f\"No data found for name {name} in the csv file {gen_csv_path}.csv\")\n",
    "        return None\n",
    "    \n",
    "    # Extract the first two letters of the name which symbolize the element\n",
    "    element = re.match(r\"^[A-Za-z]{2}\", name).group()\n",
    "    \n",
    "    # Construct the rest of the name\n",
    "    rest_of_the_name = re.sub(r\"^[A-Za-z]{2}\", \"\", name)\n",
    "    \n",
    "    # Construct the filename for the xyz data\n",
    "    filename = f\"{element}_II{rest_of_the_name}_LS.xyz\"\n",
    "    \n",
    "    filepath = f\"{gen_xyz_path}/{filename}\"\n",
    "    if os.path.exists(filepath):\n",
    "        # Create the MolGraph object for the file\n",
    "        mg = MolGraph()\n",
    "        mg.read_xyz(filepath)\n",
    "\n",
    "        # Convert the molecular graph to the NetworkX graph\n",
    "        G = to_networkx_graph(mg)\n",
    "\n",
    "        # Get element properties for each node and store them in the node features\n",
    "        for node in G.nodes:\n",
    "            element_symbol = G.nodes[node]['element']\n",
    "            element_properties = get_element_properties(element_symbol)\n",
    "            G.nodes[node]['element_properties'] = element_properties\n",
    "    else:\n",
    "        print(f\"No xyz file found at {filepath}\")\n",
    "        return None\n",
    "    \n",
    "    # Create the PyTorch Geometric Data object\n",
    "    data = Data()\n",
    "    \n",
    "    # Set the node features directly from the element properties\n",
    "    data.x = torch.tensor([G.nodes[node]['element_properties'] for node in G.nodes], dtype=torch.float)\n",
    "    \n",
    "    # Set the edge index without edge features\n",
    "    edge_index = torch.tensor(list(G.edges), dtype=torch.long).t().contiguous()\n",
    "    data.edge_index = edge_index\n",
    "    \n",
    "    # Get the last 7 columns of the filtered row\n",
    "    output_data = row.iloc[:, -7:]\n",
    "    \n",
    "    # Add the output data to the PyG graph data\n",
    "    for col in output_data.columns:\n",
    "        data[col] = output_data[col].values[0]\n",
    "    \n",
    "    return data"
   ]
  },
  {
   "cell_type": "code",
   "execution_count": 15,
   "metadata": {},
   "outputs": [],
   "source": [
    "def clean_xyz_files(folder_path):\n",
    "    for filename in os.listdir(folder_path):\n",
    "        if filename.endswith('.xyz'):\n",
    "            file_path = os.path.join(folder_path, filename)\n",
    "            with open(file_path, 'r') as file:\n",
    "                lines = file.readlines()\n",
    "\n",
    "            # Remove stoichiometry and whatever comes after in the second line\n",
    "            if len(lines) > 1:\n",
    "                second_line_parts = lines[1].split('|')\n",
    "                cleaned_second_line = second_line_parts[0] + '\\n'\n",
    "                lines[1] = cleaned_second_line\n",
    "\n",
    "            # Write the cleaned lines back to the file\n",
    "            with open(file_path, 'w') as file:\n",
    "                file.writelines(lines)\n",
    "\n",
    "# # Replace 'your_folder_path' with the actual path to your folder\n",
    "# clean_xyz_files('Data/Cambridge/X1/')"
   ]
  },
  {
   "cell_type": "code",
   "execution_count": 16,
   "metadata": {},
   "outputs": [],
   "source": [
    "def to_pyg_graph_no_output(filepath):\n",
    "    # Check if the file exists\n",
    "    if os.path.exists(filepath):\n",
    "        # Create the MolGraph object for the file\n",
    "        mg = MolGraph()\n",
    "        mg.read_xyz(filepath)\n",
    "\n",
    "        # Convert the molecular graph to the NetworkX graph\n",
    "        G = to_networkx_graph(mg)\n",
    "\n",
    "        # Get element properties for each node and store them in the node features\n",
    "        for node in G.nodes:\n",
    "            element_symbol = G.nodes[node]['element']\n",
    "            element_properties = get_element_properties(element_symbol)\n",
    "            G.nodes[node]['element_properties'] = element_properties\n",
    "    else:\n",
    "        print(f\"No xyz file found at {filepath}\")\n",
    "        return None\n",
    "    \n",
    "    # Create the PyTorch Geometric Data object\n",
    "    data = Data()\n",
    "    \n",
    "    # Set the node features directly from the element properties\n",
    "    data.x = torch.tensor([G.nodes[node]['element_properties'] for node in G.nodes], dtype=torch.float)\n",
    "    \n",
    "    # Set the edge index without edge features\n",
    "    edge_index = torch.tensor(list(G.edges), dtype=torch.long).t().contiguous()\n",
    "    data.edge_index = edge_index\n",
    "    \n",
    "    return data"
   ]
  },
  {
   "cell_type": "code",
   "execution_count": 17,
   "metadata": {},
   "outputs": [],
   "source": [
    "abemax = to_pyg_graph_no_output('data/xyz_molsimp/monosubstituted_0001.xyz')"
   ]
  },
  {
   "cell_type": "code",
   "execution_count": 20,
   "metadata": {},
   "outputs": [
    {
     "name": "stdout",
     "output_type": "stream",
     "text": [
      "torch.Size([35, 4])\n",
      "tensor([0.0424, 0.0368, 2.0400, 0.8400])\n",
      "torch.Size([2, 34])\n"
     ]
    }
   ],
   "source": [
    "print(abemax.x.shape)\n",
    "print(abemax.x[1,:])\n",
    "print(abemax.edge_index.shape)"
   ]
  },
  {
   "cell_type": "code",
   "execution_count": null,
   "metadata": {},
   "outputs": [],
   "source": []
  }
 ],
 "metadata": {
  "kernelspec": {
   "display_name": "your_env_name",
   "language": "python",
   "name": "your_env_name"
  },
  "language_info": {
   "codemirror_mode": {
    "name": "ipython",
    "version": 3
   },
   "file_extension": ".py",
   "mimetype": "text/x-python",
   "name": "python",
   "nbconvert_exporter": "python",
   "pygments_lexer": "ipython3",
   "version": "3.12.4"
  }
 },
 "nbformat": 4,
 "nbformat_minor": 2
}
